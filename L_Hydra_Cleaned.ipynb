{
  "nbformat": 4,
  "nbformat_minor": 0,
  "metadata": {
    "colab": {
      "provenance": [],
      "collapsed_sections": [
        "cXUiC0u4LZFq"
      ],
      "authorship_tag": "ABX9TyN9DcAiXnaimEBmZ0b79wsB",
      "include_colab_link": true
    },
    "kernelspec": {
      "name": "python3",
      "display_name": "Python 3"
    },
    "language_info": {
      "name": "python"
    }
  },
  "cells": [
    {
      "cell_type": "markdown",
      "metadata": {
        "id": "view-in-github",
        "colab_type": "text"
      },
      "source": [
        "<a href=\"https://colab.research.google.com/github/blazingbhavneek/hyperbolic-ml/blob/main/L_Hydra_Cleaned.ipynb\" target=\"_parent\"><img src=\"https://colab.research.google.com/assets/colab-badge.svg\" alt=\"Open In Colab\"/></a>"
      ]
    },
    {
      "cell_type": "markdown",
      "source": [
        "# L-Hydra (Cleaned, with Random Graph)"
      ],
      "metadata": {
        "id": "yYkNZln4tmYU"
      }
    },
    {
      "cell_type": "code",
      "source": [
        "import numpy as np\n",
        "import os, math, warnings\n",
        "import sys, time, pdb, os, pickle\n",
        "from numpy import *\n",
        "import networkx as nx\n",
        "from scipy.linalg import eigh\n",
        "import sys, time, pdb, os, pickle"
      ],
      "metadata": {
        "id": "AZQsvFahtt9t"
      },
      "execution_count": 1,
      "outputs": []
    },
    {
      "cell_type": "markdown",
      "source": [
        "##---------- Parameters ----------"
      ],
      "metadata": {
        "id": "nJxEVSHXRl3O"
      }
    },
    {
      "cell_type": "code",
      "source": [
        "nlandmarks = 101\n",
        "nNodes = 250\n",
        "curvature = 1\n",
        "dim = 100\n",
        "alpha = 1\n",
        "equi_adj = 0.5"
      ],
      "metadata": {
        "id": "30kbnGn5wciI"
      },
      "execution_count": 3,
      "outputs": []
    },
    {
      "cell_type": "code",
      "source": [
        "def randX(N,land, d):\n",
        "  n = N-land\n",
        "  n_temp = n\n",
        "  param = 0.4  #distance thresold\n",
        "  g = nx.generators.random_geometric_graph(n_temp, param, seed = 1)\n",
        "  W = np.zeros((n_temp, n_temp))\n",
        "  for (x,y) in g.edges:\n",
        "    W[x][y] = np.random.uniform(0.1,3)\n",
        "  W_hat = W + W.T\n",
        "  L = np.diag(np.matmul(W_hat,np.ones(W_hat.shape[0]))) - W_hat\n",
        "\n",
        "  np.random.seed(1)\n",
        "  X_na = np.random.multivariate_normal(np.zeros(n), np.linalg.pinv(L),d+1)\n",
        "\n",
        "  np.random.seed(5)\n",
        "  X_a = np.random.normal(0,1,size=(d+1,land))\n",
        "\n",
        "  X = np.hstack((X_a, X_na))\n",
        "\n",
        "  for i in range(N):\n",
        "    X[0,i] = np.sqrt(1+np.linalg.norm(X[1:d+1,i])**2);\n",
        "  \n",
        "  return X\n",
        "\n",
        "\n",
        "def x2hdm(N,land, X,d):\n",
        "  n = N-land\n",
        "  G = x2hgram(N,d,X)\n",
        "  D = _arccosh(G)\n",
        "\n",
        "  return D \n",
        "\n",
        "\n",
        "def _arccosh(G):\n",
        "  D = np.arccosh(-G)\n",
        "  return D\n",
        "\n",
        "\n",
        "def x2hgram(N,d, X):\n",
        "  n = N-d\n",
        "\n",
        "  X_ = X\n",
        "  for n in range(N):\n",
        "      x = X_[:,n]\n",
        "      X_[:,n] = projectX(N,d,x)\n",
        "\n",
        "  G = x2lgram(N,d, X_)\n",
        "\n",
        "  E1 = G-valid(G) \n",
        "\n",
        "  if np.linalg.norm(E1,'fro') > 1e-10:\n",
        "      print(np.linalg.norm(E1,'fro'))\n",
        "      print('inaccuracy in  x2hgram - ')\n",
        "\n",
        "  E2 = G-l_rankPrj(G, N)\n",
        "\n",
        "  if np.linalg.norm(E2,'fro') > 1e-10:\n",
        "      print(np.linalg.norm(E2,'fro'))\n",
        "      print('inaccuracy in  x2hgram -- ')\n",
        "  return G\n",
        "\n",
        "\n",
        "def projectX(N,d,x):\n",
        "  n= N-d\n",
        "  \n",
        "  \n",
        "  H = np.eye(d+1)\n",
        "  H[0,0] = -1\n",
        "  I = np.eye(d+1)\n",
        "  \n",
        "  x0 = x[0]\n",
        "  \n",
        "  eps = 1e-15\n",
        "  center = 0\n",
        "  error = abs(h_norm(x,N,d)+1)\n",
        "  \n",
        "  A_opt = I\n",
        "  for i in range(50):\n",
        "      l = 10**(-i)\n",
        "      if x0 > 0:\n",
        "          lambda_min = max(center-l, -1+eps)\n",
        "          lambda_max = min(center+l, 1-eps)\n",
        "          number = 50\n",
        "      else:\n",
        "          lambda_min = max(center-l*10000, 1+eps)\n",
        "          lambda_max = center+l*10000\n",
        "          number = 100\n",
        "      lambda_list = np.linspace(lambda_min,lambda_max,num=number)\n",
        "      for lambda_ in lambda_list:\n",
        "          A = np.linalg.inv(I + lambda_*H)\n",
        "          x_l = np.matmul(A,x)\n",
        "          if abs(h_norm(x_l,N,d)+1) < error:\n",
        "              A_opt = A\n",
        "              error = abs(h_norm(x_l,N,d)+1)\n",
        "              center = lambda_\n",
        "  x_opt = np.matmul(A_opt,x)\n",
        "  if error > 1e-5:\n",
        "      print('error: ',error, \"centre: \", center)\n",
        "   \n",
        "  return x_opt\n",
        "\n",
        "\n",
        "def x2lgram(N,d,X):\n",
        "  n= N-d\n",
        "  \n",
        "  H = np.eye(d+1)\n",
        "  H[0,0] = -1\n",
        "  \n",
        "  G = np.matmul(np.matmul(X.T,H),X)\n",
        "  return G\n",
        "\n",
        "\n",
        "def h_norm(x,N,d):\n",
        "  n= N-d\n",
        "  \n",
        "  H = np.eye(d+1)\n",
        "  H[0,0] = -1\n",
        "  \n",
        "  x_norm = np.matmul(np.matmul(x.T,H),x)\n",
        "  return x_norm\n",
        "\n",
        "\n",
        "def valid(G):\n",
        "  np.fill_diagonal(G, -1)\n",
        "  G[G >= -1] = -1\n",
        "  \n",
        "  return G\n",
        "\n",
        "\n",
        "def l_rankPrj(G, N):\n",
        "  X = lgram2x(N,d,G)\n",
        "  \n",
        "  return x2lgram(N,d,X)\n",
        "\n",
        "\n",
        "def lgram2x(N,d,G):\n",
        "  n= N-d\n",
        "  \n",
        "  w, v = np.linalg.eig(G)\n",
        "  w = w.real\n",
        "  v = v.real\n",
        "\n",
        "  lambda_0 = np.amin(w)\n",
        "  ind_0 = np.argmin(w)\n",
        "  w = np.delete(w, ind_0)\n",
        "  ind = np.argsort(-w)\n",
        "  w = -np.sort(-w)\n",
        "  ind = ind[:d]\n",
        "  w = w[:d]\n",
        "  \n",
        "  lambda_ = np.concatenate((abs(lambda_0), w), axis=None) \n",
        "  lambda_[lambda_ <= 0] = 0\n",
        "  lambda_ = np.sqrt(lambda_)\n",
        "\n",
        "  ind_ = np.concatenate((ind_0, ind+1), axis=None) \n",
        "  v = v[:, ind_]\n",
        "  X = np.matmul(np.diag(lambda_),v.T)\n",
        "  \n",
        "  if X[0,0] < 0:\n",
        "      X = -X\n",
        "  \n",
        "  return X                    "
      ],
      "metadata": {
        "id": "IP-djc-AtmBl"
      },
      "execution_count": 21,
      "outputs": []
    },
    {
      "cell_type": "markdown",
      "source": [
        "##---------- Generating Random X and D ----------"
      ],
      "metadata": {
        "id": "oXCY-JNLcODy"
      }
    },
    {
      "cell_type": "code",
      "source": [
        "#---------- Generating Random X and D ----------\n",
        "d = dim-1\n",
        "\n",
        "X = randX(nNodes,nlandmarks, d)\n",
        "print(\"X: \",X.shape)\n",
        "\n",
        "D = x2hdm(nNodes,nlandmarks, X,d)\n",
        "D = (D+D.T)/2\n",
        "print(\"D: \", D.shape)\n",
        "\n",
        "L2n = D[:nlandmarks,:]\n",
        "print(\"L2n: \", L2n.shape)\n",
        "#---------- ------------------------ ----------"
      ],
      "metadata": {
        "colab": {
          "base_uri": "https://localhost:8080/"
        },
        "id": "xypLMcP8yFwz",
        "outputId": "652c4095-39a2-4f78-d6b9-cc0449bfa28c"
      },
      "execution_count": 7,
      "outputs": [
        {
          "output_type": "stream",
          "name": "stdout",
          "text": [
            "X:  (100, 250)\n",
            "D:  (250, 250)\n",
            "L2n:  (101, 250)\n"
          ]
        }
      ]
    },
    {
      "cell_type": "code",
      "source": [
        "np.save('/content/X', X)\n",
        "np.save('/content/D', D)"
      ],
      "metadata": {
        "id": "qkmnmzeVRV9y"
      },
      "execution_count": 8,
      "outputs": []
    },
    {
      "cell_type": "markdown",
      "source": [
        "### Objective function definitions\n"
      ],
      "metadata": {
        "id": "cXUiC0u4LZFq"
      }
    },
    {
      "cell_type": "code",
      "source": [
        "# Frobenius Norm\n",
        "def f(X,Y):\n",
        "\treturn .5*linalg.norm(X-Y, ord='fro')**2\n",
        "\n",
        "# Matrix Difference\n",
        "def df(X,Y):\n",
        "\treturn X-Y\n",
        "\n",
        "# Hyperbolic Distance\n",
        "def hype_dist(p1,p2,curv):\n",
        "\tk = curv\n",
        "\tc = 1./sqrt(abs(k))\n",
        "\tx = dot(p1,p2)\n",
        "\tusq1 = dot(p1,p1) + 1.0\n",
        "\tusq2 = dot(p2,p2) + 1.0\n",
        "\tudotu = x - sqrt(usq1)*sqrt(usq2)\n",
        "\tacoshudotu = real(arccosh(-udotu + 0j))\n",
        "\td = acoshudotu * c\n",
        "\treturn d\n",
        "\n",
        "# Objective func for Xl: Eq 14a\n",
        "def land_obj(x,**kwargs):\n",
        "\tdim = kwargs['dim']\n",
        "\tD0 = kwargs['D_landmark']\n",
        "\tgrad = zeros(len(x))\n",
        "\tpoints = len(x[:-1])//dim\n",
        "\tk = x[-1]\n",
        "\tc = 1./sqrt(abs(k))\n",
        "\tP = x[:-1].reshape((points,dim))\n",
        "\n",
        "\tX = dot(P,P.T)\n",
        "\tUsq = diag(X) + 1.0\n",
        "\tU = sqrt(Usq)\n",
        "\tUdotU = X - outer(U,U)\n",
        "\tacoshUdotU = real(arccosh(-UdotU + 0j))\n",
        "\tfill_diagonal(acoshUdotU,0.0)\n",
        "\n",
        "\tD = acoshUdotU*c;\n",
        "\tD[isnan(D)] = 0\n",
        "\tdE = df(D,D0)\n",
        "\terr = f(D,D0)/2.0 # since matrix is symmetric\n",
        "\n",
        "\t# compute gradient w.r.t. k\n",
        "\tgradk = - dE * acoshUdotU * .5 * k * abs(k)**-2.5\n",
        "\tgrad[-1] = sum(sum(gradk))/2.0 # divide by two since matrix is symmetric\n",
        "\n",
        "\t# compute gradient\n",
        "\ttol = 1e-12\n",
        "\tAtemp = UdotU**2 - 1.0\n",
        "\tAtemp[Atemp<=0] = tol\n",
        "\tA = - 1./sqrt(Atemp) * c\n",
        "\tB = outer(1./U,U)\n",
        "\tC = dE * A\n",
        "\tH1 = C * B\n",
        "\thsum = sum(H1,1)\n",
        "\tL = len(D0)\n",
        "\tCi = zeros((len(C),len(C)))\n",
        "\tfor i in range(L):\n",
        "\t\tui = P[i,:]\n",
        "\t\thi = hsum[i]\n",
        "\t\tfill_diagonal(Ci,C[i])\n",
        "\t\tg = sum(dot(P.T,Ci),1) - hi*ui\n",
        "\t\tgrad[dim*i:(i+1)*dim] = g\n",
        "\n",
        "\treturn err, grad\n",
        "\n",
        "# Objective func for Xn: Eq 14b\n",
        "def nonland_obj(x, node, **kwargs):\n",
        "\t'''\n",
        "\tcomputes nonlandmark error for an entire nonlandmark\n",
        "\tmatrix D0\n",
        "\t'''\n",
        "\t# node is index of D_nonland not D_land2nodes\n",
        "\tdim = kwargs['dim']\n",
        "\tD0 = kwargs['D_nonland']\n",
        "\tL = kwargs['Land_points']\n",
        "\tn_land, dim = L.shape\n",
        "\tnl_id = node\n",
        "\tk = kwargs['k']\n",
        "\tc = 1./sqrt(abs(k))\n",
        "\n",
        "\tX = dot(L,x)\n",
        "\tu = sqrt(dot(x,x) + 1.0)\n",
        "\tV = sqrt(sum(L.T**2,0) + 1.0)\n",
        "\tudotV = outer(u,V) - X\n",
        "\td = real(arccosh(udotV + 0j)) * c\n",
        "\td0 = D0[:,nl_id]\n",
        "\terr = f(d,d0)\n",
        "\tderr = df(d,d0)\n",
        "\n",
        "\t# compute gradient\n",
        "\ttol = 1e-12\n",
        "\tAtemp = udotV**2 - 1.0\n",
        "\tAtemp[Atemp<=0] = tol\n",
        "\tA = - 1./sqrt(Atemp) * c\n",
        "\tB = outer(1./u,V)\n",
        "\tC = derr * A\n",
        "\tH1 = C * B\n",
        "\tH1.shape = (n_land,1)\n",
        "\tC.shape = (n_land,1)\n",
        "\n",
        "\tui = x\n",
        "\tUi = tile(ui,(n_land,1)).T\n",
        "\tHi = diag(H1[:,0])\n",
        "\tCi = diag(C[:,0])\n",
        "\tG = dot(L.T,Ci) - dot(Ui,Hi)\n",
        "\tgrad = sum(G,1)\n",
        "\n",
        "\treturn err, grad"
      ],
      "metadata": {
        "id": "KeFJ1XNfLWdK"
      },
      "execution_count": 9,
      "outputs": []
    },
    {
      "cell_type": "markdown",
      "source": [
        "## L_Hydra"
      ],
      "metadata": {
        "id": "EbJWZ_OTcFvq"
      }
    },
    {
      "cell_type": "code",
      "source": [
        "land_ids = [i for i in range(nlandmarks)]\n",
        "non_land_ids = [i for i in range(nlandmarks,nNodes)]\n",
        "D_land2nodes, D_land, land_ids, D_nonland, nonland_ids = L2n, L2n[:,:nlandmarks], land_ids, L2n[:,nlandmarks:], non_land_ids "
      ],
      "metadata": {
        "id": "31UmfYBqMdQ2"
      },
      "execution_count": 10,
      "outputs": []
    },
    {
      "cell_type": "code",
      "source": [
        "def hydra_landmark_fixed_curvature(curvature, dim, alpha, equi_adj, polar=False, isotropic_adj=True, hydra=False, lorentz=False):\n",
        "\n",
        "    nodes = nNodes\n",
        "\n",
        "    # sanitize/check input\n",
        "    if any(np.diag(D_land) != 0):  # non-zero diagonal elements are set to zero\n",
        "      np.fill_diagonal(D_land, 0)\n",
        "      warnings.warn(\"Diagonal of input matrix D_land has been set to zero\")\n",
        "      \n",
        "    if dim > len(D_land):\n",
        "      raise RuntimeError(\n",
        "        f\"Hydra cannot embed {len(D_land)} points in {dim}-dimensions. Limit of {len(D_land)}.\"\n",
        "      )\n",
        "    \n",
        "    if not np.allclose(D_land, np.transpose(D_land)):\n",
        "      warnings.warn(\n",
        "        \"Input matrix D_land is not symmetric.\\\n",
        "        Lower triangle part is used.\"\n",
        "      )\n",
        "\n",
        "    if dim > 2:\n",
        "      # set default values in dimension > 2\n",
        "      isotropic_adj = False\n",
        "      if polar:\n",
        "        warnings.warn(\"Polar coordinates only valid in dimension two\")\n",
        "        polar = False\n",
        "      if equi_adj != 0.0:\n",
        "        warnings.warn(\"Equiangular adjustment only possible in dimension two.\")\n",
        "      \n",
        "    # convert distance matrix to 'hyperbolic Gram matrix'\n",
        "    A_land = np.cosh(np.sqrt(abs(curvature))*D_land)\n",
        "    A_nonland = np.cosh(np.sqrt(abs(curvature))*D_nonland)\n",
        "\n",
        "    nlm = len(land_ids)\n",
        "    nnonlm = nodes - nlm\n",
        "    \n",
        "    # check for large/infinite values\n",
        "    A_max = np.amax(A_land)\n",
        "    if A_max > 1e8:\n",
        "      warnings.warn(\n",
        "        \"Gram Matrix contains values > 1e8. Rerun with smaller\\\n",
        "        curvature parameter or rescaled distances.\"\n",
        "      )\n",
        "    if A_max == float(\"inf\"):\n",
        "      warnings.warn(\n",
        "        \"Gram matrix contains infinite values.\\\n",
        "        Rerun with smaller curvature parameter or rescaled distances.\"\n",
        "      )\n",
        "\n",
        "\n",
        "    # Eigendecomposition of A\n",
        "    # compute leading Eigenvalue and Eigenvector\n",
        "    lambda0, x0 = eigh(A_land, subset_by_index=[nlm-1, nlm-1])\n",
        "    # compute lower tail of spectrum\n",
        "    w, v = eigh(A_land, subset_by_index=[0,dim-1])\n",
        "    print(\"w\",len(w))\n",
        "    print(\"v\", len(v))\n",
        "    idx = w.argsort()[::-1]\n",
        "    # print(\"idx\",len(idx))\n",
        "    spec_tail = w[idx] # Last dim Eigenvalues\n",
        "    print(\"\")\n",
        "    X_land_raw = v[:,idx] # Last dim Eigenvectors\n",
        "    print(\"shape of  X_land_raw\",  X_land_raw.shape) \n",
        "    \n",
        "    x0 = x0 * np.sqrt(lambda0) # scale by Eigenvalue\n",
        "    if x0[0]<0:\n",
        "      x0 = -x0 # Flip sign if first element negative\n",
        "\n",
        "    # no isotropic adjustment: rescale Eigenvectors by Eigenvalues\n",
        "    if not isotropic_adj:\n",
        "      if np.array([spec_tail > 0]).any():\n",
        "        warnings.warn(\n",
        "          \"Spectral Values have been truncated to zero. Try to use\\\n",
        "          lower embedding dimension\"\n",
        "        )\n",
        "        spec_tail[spec_tail > 0] = 0\n",
        "      X_land_raw = np.matmul(X_land_raw, np.diag(np.sqrt(np.maximum(-spec_tail,0))))\n",
        "      \n",
        "    X_nonland = np.matmul(np.transpose(A_nonland), np.c_[(x0/lambda0), -(X_land_raw/abs(spec_tail))])\n",
        "    \n",
        "    X_raw = np.zeros((nodes, dim))\n",
        "\n",
        "    print(len(land_ids))\n",
        "    X_raw[land_ids,:] = X_land_raw\n",
        "    \n",
        "    X_raw[nonland_ids,:] = X_nonland[:,1:(dim+1)]\n",
        "    \n",
        "    x0_full = np.zeros((nodes, 1))\n",
        "    x0_full[land_ids,0] = x0[:,0]\n",
        "    x0_full[nonland_ids,0] = X_nonland[:,0]\n",
        "    x_min = x0_full.min()\n",
        "    \n",
        "    \n",
        "    if hydra:\n",
        "      # Calculate radial coordinate\n",
        "      s = np.sqrt(np.sum(X_raw ** 2, axis=1))\n",
        "      directional = X_raw / s[:, None]  # convert to directional coordinates\n",
        "      r = np.sqrt((alpha*x0_full - x_min)/(alpha*x0_full + x_min)) ## multiplicative adjustment (scaling)\n",
        "      X = self.poincare_to_hyper(r=r, directional=directional)\n",
        "    else:\n",
        "      X = X_raw\n",
        "      \n",
        "    # Calculate polar coordinates if dimension is 2\n",
        "    if dim == 2:\n",
        "      # calculate polar angle\n",
        "      theta = np.arctan2(X[:, 0], -X[:, 1])\n",
        "\n",
        "      # Equiangular adjustment\n",
        "      if equi_adj > 0.0:\n",
        "        angles = [(2 * x / nodes - 1) * math.pi for x in range(0, nodes)]\n",
        "        theta_equi = np.array(\n",
        "          [x for _, x in sorted(zip(theta, angles))]\n",
        "        )  # Equi-spaced angles\n",
        "        # convex combination of original and equi-spaced angles\n",
        "        theta = (1 - equi_adj) * theta + equi_adj * theta_equi\n",
        "        # update directional coordinate\n",
        "        directional = np.array([np.cos(theta), np.sin(theta)]).transpose()\n",
        "        \n",
        "    if lorentz:\n",
        "      X_lorentz = np.concatenate((x0_full, X), axis=1)\n",
        "\n",
        "    return X"
      ],
      "metadata": {
        "id": "--ccsAUJMxL3"
      },
      "execution_count": 11,
      "outputs": []
    },
    {
      "cell_type": "code",
      "source": [
        "X_hat = hydra_landmark_fixed_curvature(curvature, dim, alpha, equi_adj)"
      ],
      "metadata": {
        "colab": {
          "base_uri": "https://localhost:8080/"
        },
        "id": "4YjgPOcAP2vK",
        "outputId": "f4920a96-0dfd-4f45-917f-2ce0597835c7"
      },
      "execution_count": 12,
      "outputs": [
        {
          "output_type": "stream",
          "name": "stdout",
          "text": [
            "w 100\n",
            "v 101\n",
            "\n",
            "shape of  X_land_raw (101, 100)\n",
            "101\n"
          ]
        },
        {
          "output_type": "stream",
          "name": "stderr",
          "text": [
            "<ipython-input-11-446413e345e6>:28: UserWarning: Equiangular adjustment only possible in dimension two.\n",
            "  warnings.warn(\"Equiangular adjustment only possible in dimension two.\")\n",
            "<ipython-input-11-446413e345e6>:72: UserWarning: Spectral Values have been truncated to zero. Try to use          lower embedding dimension\n",
            "  warnings.warn(\n",
            "<ipython-input-11-446413e345e6>:79: RuntimeWarning: invalid value encountered in true_divide\n",
            "  X_nonland = np.matmul(np.transpose(A_nonland), np.c_[(x0/lambda0), -(X_land_raw/abs(spec_tail))])\n"
          ]
        }
      ]
    },
    {
      "cell_type": "code",
      "source": [
        "X_hat.shape"
      ],
      "metadata": {
        "colab": {
          "base_uri": "https://localhost:8080/"
        },
        "id": "KqSRT0wRZinV",
        "outputId": "08ee1fda-0544-490f-8321-803a5ff98294"
      },
      "execution_count": 16,
      "outputs": [
        {
          "output_type": "execute_result",
          "data": {
            "text/plain": [
              "(250, 100)"
            ]
          },
          "metadata": {},
          "execution_count": 16
        }
      ]
    },
    {
      "cell_type": "markdown",
      "source": [
        "#### We need shape of X_hat: [100,250] for x2hdm"
      ],
      "metadata": {
        "id": "SMTGdorkZtPH"
      }
    },
    {
      "cell_type": "code",
      "source": [
        "X_hat = X_hat.T"
      ],
      "metadata": {
        "id": "Z4jcwkSuZs6f"
      },
      "execution_count": 17,
      "outputs": []
    },
    {
      "cell_type": "code",
      "source": [
        "X_hat.shape"
      ],
      "metadata": {
        "colab": {
          "base_uri": "https://localhost:8080/"
        },
        "id": "5Uk8wrXqZ_5b",
        "outputId": "2f1efff7-302b-469f-ebe0-311605bd0621"
      },
      "execution_count": 18,
      "outputs": [
        {
          "output_type": "execute_result",
          "data": {
            "text/plain": [
              "(100, 250)"
            ]
          },
          "metadata": {},
          "execution_count": 18
        }
      ]
    },
    {
      "cell_type": "code",
      "source": [
        "np.save('/content/X_hat', X_hat)"
      ],
      "metadata": {
        "id": "ATiVNePpQ9nU"
      },
      "execution_count": 19,
      "outputs": []
    },
    {
      "cell_type": "code",
      "source": [
        "D_hat = x2hdm(nNodes,nlandmarks, X_hat,d)"
      ],
      "metadata": {
        "colab": {
          "base_uri": "https://localhost:8080/",
          "height": 1000
        },
        "id": "rauxwWYWQNrw",
        "outputId": "f7889759-a76c-4392-d687-06018369517b"
      },
      "execution_count": 22,
      "outputs": [
        {
          "output_type": "stream",
          "name": "stdout",
          "text": [
            "error:  1.0000000000000058 centre:  10838.383838383837\n",
            "error:  1.0000000000000053 centre:  10838.39393939394\n",
            "error:  1.0000000000000067 centre:  10858.585858585859\n",
            "error:  1.000000000000007 centre:  10858.585858585859\n",
            "error:  1.000000000000007 centre:  10878.787878787878\n",
            "error:  1.000000000000006 centre:  10757.585858585859\n",
            "error:  1.000000000000007 centre:  10757.585858585859\n",
            "error:  1.0000000000000067 centre:  10818.191919191919\n",
            "error:  1.0000000000000058 centre:  10858.585858585859\n",
            "error:  1.000000000000007 centre:  10979.797979797979\n",
            "error:  1.0000000000000089 centre:  10979.797979797979\n",
            "error:  1.0000000000000056 centre:  10777.787878787878\n",
            "error:  1.0000000000000064 centre:  10919.191919191919\n",
            "error:  1.0000000000000075 centre:  11000.0\n",
            "error:  1.0000000000000067 centre:  10898.9898989899\n",
            "error:  1.0000000000000087 centre:  10959.59595959596\n",
            "error:  1.0000000000000062 centre:  10737.383838383837\n",
            "error:  1.0000000000000078 centre:  10919.191919191919\n",
            "error:  1.0000000000000082 centre:  10878.787878787878\n",
            "error:  1.0000000000000075 centre:  10919.191919191919\n",
            "error:  1.000000000000006 centre:  10818.181818181818\n",
            "error:  1.0000000000000067 centre:  10878.787878787878\n",
            "error:  1.0000000000000053 centre:  10919.191919191919\n",
            "error:  1.0000000000000069 centre:  10858.585858585859\n",
            "error:  1.0000000000000064 centre:  10818.181818181818\n",
            "error:  1.0000000000000064 centre:  10818.191919191919\n",
            "error:  1.000000000000006 centre:  10959.59595959596\n",
            "error:  1.000000000000006 centre:  10757.585858585859\n",
            "error:  1.0000000000000069 centre:  10878.787878787878\n",
            "error:  1.0000000000000073 centre:  10878.797979797979\n",
            "error:  1.0000000000000084 centre:  11000.0\n",
            "error:  1.000000000000006 centre:  10717.181818181818\n",
            "error:  1.0000000000000058 centre:  10777.787878787878\n",
            "error:  1.0000000000000056 centre:  10797.9898989899\n",
            "error:  1.0000000000000084 centre:  10898.9898989899\n",
            "error:  1.0000000000000058 centre:  10818.181818181818\n",
            "error:  1.0000000000000075 centre:  10838.39393939394\n",
            "error:  1.000000000000006 centre:  10878.797979797979\n",
            "error:  1.000000000000005 centre:  10797.979797979799\n",
            "error:  1.0000000000000075 centre:  10878.787878787878\n",
            "error:  1.0000000000000073 centre:  10919.191919191919\n",
            "error:  1.0000000000000047 centre:  11000.0\n",
            "error:  1.000000000000005 centre:  10797.979797979799\n",
            "error:  1.0000000000000069 centre:  10898.9898989899\n",
            "error:  1.0000000000000084 centre:  10959.59595959596\n",
            "error:  1.0000000000000044 centre:  10737.383838383837\n",
            "error:  1.000000000000007 centre:  10878.787878787878\n",
            "error:  1.0000000000000058 centre:  11000.0\n",
            "error:  1.0000000000000053 centre:  10878.797979797979\n",
            "error:  1.000000000000006 centre:  10838.383838383837\n",
            "error:  1.0000000000000064 centre:  10939.39393939394\n",
            "error:  1.0000000000000062 centre:  10858.59595959596\n",
            "error:  1.000000000000007 centre:  10959.59595959596\n",
            "error:  1.0000000000000053 centre:  10858.59595959596\n",
            "error:  1.000000000000008 centre:  11000.0\n",
            "error:  1.0000000000000078 centre:  10898.9898989899\n",
            "error:  1.000000000000007 centre:  10777.787878787878\n",
            "error:  1.0000000000000075 centre:  10919.191919191919\n",
            "error:  1.0000000000000062 centre:  10919.191919191919\n",
            "error:  1.0000000000000075 centre:  10959.59595959596\n",
            "error:  1.0000000000000069 centre:  10959.59595959596\n",
            "error:  1.000000000000008 centre:  10898.9898989899\n",
            "error:  1.0000000000000069 centre:  10898.9898989899\n",
            "error:  1.0000000000000067 centre:  10878.787878787878\n",
            "error:  1.0000000000000056 centre:  10919.191919191919\n",
            "error:  1.0000000000000062 centre:  10979.797979797979\n",
            "error:  1.0000000000000056 centre:  10818.191919191919\n",
            "error:  1.000000000000005 centre:  10858.59595959596\n",
            "error:  1.0000000000000058 centre:  10898.9898989899\n",
            "error:  1.0000000000000058 centre:  10898.9898989899\n",
            "error:  1.0000000000000078 centre:  10939.39393939394\n",
            "error:  1.0000000000000058 centre:  11000.0\n",
            "error:  1.000000000000008 centre:  10959.59595959596\n",
            "error:  1.0000000000000073 centre:  10878.797979797979\n",
            "error:  1.0000000000000075 centre:  10939.39393939394\n",
            "error:  1.0000000000000056 centre:  10858.585858585859\n",
            "error:  1.000000000000006 centre:  10939.39393939394\n",
            "error:  1.0000000000000062 centre:  10898.9898989899\n",
            "error:  1.0000000000000058 centre:  10979.797979797979\n",
            "error:  1.0000000000000062 centre:  10737.383838383837\n",
            "error:  1.0000000000000058 centre:  11000.0\n",
            "error:  1.0000000000000075 centre:  10898.9898989899\n",
            "error:  1.0000000000000078 centre:  10939.39393939394\n",
            "error:  1.0000000000000058 centre:  10898.9898989899\n",
            "error:  1.000000000000007 centre:  10899.0\n",
            "error:  1.0000000000000058 centre:  10878.787878787878\n",
            "error:  1.0000000000000089 centre:  10919.191919191919\n",
            "error:  1.0000000000000064 centre:  10979.797979797979\n",
            "error:  1.0000000000000064 centre:  10979.797979797979\n",
            "error:  1.0000000000000062 centre:  11000.0\n",
            "error:  1.000000000000006 centre:  10899.0\n",
            "error:  1.000000000000007 centre:  10757.585858585859\n",
            "error:  1.0000000000000067 centre:  10919.191919191919\n",
            "error:  1.0000000000000053 centre:  10919.191919191919\n",
            "error:  1.0000000000000062 centre:  10858.59595959596\n",
            "error:  1.0000000000000078 centre:  10919.191919191919\n",
            "error:  1.0000000000000064 centre:  10858.59595959596\n",
            "error:  1.0000000000000069 centre:  10898.9898989899\n",
            "error:  1.000000000000006 centre:  11000.0\n",
            "error:  1.0000000000000075 centre:  10898.9898989899\n",
            "error:  1.000000000000005 centre:  10717.181818181818\n"
          ]
        },
        {
          "output_type": "error",
          "ename": "LinAlgError",
          "evalue": "ignored",
          "traceback": [
            "\u001b[0;31m---------------------------------------------------------------------------\u001b[0m",
            "\u001b[0;31mLinAlgError\u001b[0m                               Traceback (most recent call last)",
            "\u001b[0;32m<ipython-input-22-3b70691bd131>\u001b[0m in \u001b[0;36m<cell line: 1>\u001b[0;34m()\u001b[0m\n\u001b[0;32m----> 1\u001b[0;31m \u001b[0mD_hat\u001b[0m \u001b[0;34m=\u001b[0m \u001b[0mx2hdm\u001b[0m\u001b[0;34m(\u001b[0m\u001b[0mnNodes\u001b[0m\u001b[0;34m,\u001b[0m\u001b[0mnlandmarks\u001b[0m\u001b[0;34m,\u001b[0m \u001b[0mX_hat\u001b[0m\u001b[0;34m,\u001b[0m\u001b[0md\u001b[0m\u001b[0;34m)\u001b[0m\u001b[0;34m\u001b[0m\u001b[0;34m\u001b[0m\u001b[0m\n\u001b[0m",
            "\u001b[0;32m<ipython-input-21-cd0d0a9876df>\u001b[0m in \u001b[0;36mx2hdm\u001b[0;34m(N, land, X, d)\u001b[0m\n\u001b[1;32m     26\u001b[0m \u001b[0;32mdef\u001b[0m \u001b[0mx2hdm\u001b[0m\u001b[0;34m(\u001b[0m\u001b[0mN\u001b[0m\u001b[0;34m,\u001b[0m\u001b[0mland\u001b[0m\u001b[0;34m,\u001b[0m \u001b[0mX\u001b[0m\u001b[0;34m,\u001b[0m\u001b[0md\u001b[0m\u001b[0;34m)\u001b[0m\u001b[0;34m:\u001b[0m\u001b[0;34m\u001b[0m\u001b[0;34m\u001b[0m\u001b[0m\n\u001b[1;32m     27\u001b[0m   \u001b[0mn\u001b[0m \u001b[0;34m=\u001b[0m \u001b[0mN\u001b[0m\u001b[0;34m-\u001b[0m\u001b[0mland\u001b[0m\u001b[0;34m\u001b[0m\u001b[0;34m\u001b[0m\u001b[0m\n\u001b[0;32m---> 28\u001b[0;31m   \u001b[0mG\u001b[0m \u001b[0;34m=\u001b[0m \u001b[0mx2hgram\u001b[0m\u001b[0;34m(\u001b[0m\u001b[0mN\u001b[0m\u001b[0;34m,\u001b[0m\u001b[0md\u001b[0m\u001b[0;34m,\u001b[0m\u001b[0mX\u001b[0m\u001b[0;34m)\u001b[0m\u001b[0;34m\u001b[0m\u001b[0;34m\u001b[0m\u001b[0m\n\u001b[0m\u001b[1;32m     29\u001b[0m   \u001b[0mD\u001b[0m \u001b[0;34m=\u001b[0m \u001b[0m_arccosh\u001b[0m\u001b[0;34m(\u001b[0m\u001b[0mG\u001b[0m\u001b[0;34m)\u001b[0m\u001b[0;34m\u001b[0m\u001b[0;34m\u001b[0m\u001b[0m\n\u001b[1;32m     30\u001b[0m \u001b[0;34m\u001b[0m\u001b[0m\n",
            "\u001b[0;32m<ipython-input-21-cd0d0a9876df>\u001b[0m in \u001b[0;36mx2hgram\u001b[0;34m(N, d, X)\u001b[0m\n\u001b[1;32m     43\u001b[0m   \u001b[0;32mfor\u001b[0m \u001b[0mn\u001b[0m \u001b[0;32min\u001b[0m \u001b[0mrange\u001b[0m\u001b[0;34m(\u001b[0m\u001b[0mN\u001b[0m\u001b[0;34m)\u001b[0m\u001b[0;34m:\u001b[0m\u001b[0;34m\u001b[0m\u001b[0;34m\u001b[0m\u001b[0m\n\u001b[1;32m     44\u001b[0m       \u001b[0mx\u001b[0m \u001b[0;34m=\u001b[0m \u001b[0mX_\u001b[0m\u001b[0;34m[\u001b[0m\u001b[0;34m:\u001b[0m\u001b[0;34m,\u001b[0m\u001b[0mn\u001b[0m\u001b[0;34m]\u001b[0m\u001b[0;34m\u001b[0m\u001b[0;34m\u001b[0m\u001b[0m\n\u001b[0;32m---> 45\u001b[0;31m       \u001b[0mX_\u001b[0m\u001b[0;34m[\u001b[0m\u001b[0;34m:\u001b[0m\u001b[0;34m,\u001b[0m\u001b[0mn\u001b[0m\u001b[0;34m]\u001b[0m \u001b[0;34m=\u001b[0m \u001b[0mprojectX\u001b[0m\u001b[0;34m(\u001b[0m\u001b[0mN\u001b[0m\u001b[0;34m,\u001b[0m\u001b[0md\u001b[0m\u001b[0;34m,\u001b[0m\u001b[0mx\u001b[0m\u001b[0;34m)\u001b[0m\u001b[0;34m\u001b[0m\u001b[0;34m\u001b[0m\u001b[0m\n\u001b[0m\u001b[1;32m     46\u001b[0m \u001b[0;34m\u001b[0m\u001b[0m\n\u001b[1;32m     47\u001b[0m   \u001b[0mG\u001b[0m \u001b[0;34m=\u001b[0m \u001b[0mx2lgram\u001b[0m\u001b[0;34m(\u001b[0m\u001b[0mN\u001b[0m\u001b[0;34m,\u001b[0m\u001b[0md\u001b[0m\u001b[0;34m,\u001b[0m \u001b[0mX_\u001b[0m\u001b[0;34m)\u001b[0m\u001b[0;34m\u001b[0m\u001b[0;34m\u001b[0m\u001b[0m\n",
            "\u001b[0;32m<ipython-input-21-cd0d0a9876df>\u001b[0m in \u001b[0;36mprojectX\u001b[0;34m(N, d, x)\u001b[0m\n\u001b[1;32m     88\u001b[0m       \u001b[0mlambda_list\u001b[0m \u001b[0;34m=\u001b[0m \u001b[0mnp\u001b[0m\u001b[0;34m.\u001b[0m\u001b[0mlinspace\u001b[0m\u001b[0;34m(\u001b[0m\u001b[0mlambda_min\u001b[0m\u001b[0;34m,\u001b[0m\u001b[0mlambda_max\u001b[0m\u001b[0;34m,\u001b[0m\u001b[0mnum\u001b[0m\u001b[0;34m=\u001b[0m\u001b[0mnumber\u001b[0m\u001b[0;34m)\u001b[0m\u001b[0;34m\u001b[0m\u001b[0;34m\u001b[0m\u001b[0m\n\u001b[1;32m     89\u001b[0m       \u001b[0;32mfor\u001b[0m \u001b[0mlambda_\u001b[0m \u001b[0;32min\u001b[0m \u001b[0mlambda_list\u001b[0m\u001b[0;34m:\u001b[0m\u001b[0;34m\u001b[0m\u001b[0;34m\u001b[0m\u001b[0m\n\u001b[0;32m---> 90\u001b[0;31m           \u001b[0mA\u001b[0m \u001b[0;34m=\u001b[0m \u001b[0mnp\u001b[0m\u001b[0;34m.\u001b[0m\u001b[0mlinalg\u001b[0m\u001b[0;34m.\u001b[0m\u001b[0minv\u001b[0m\u001b[0;34m(\u001b[0m\u001b[0mI\u001b[0m \u001b[0;34m+\u001b[0m \u001b[0mlambda_\u001b[0m\u001b[0;34m*\u001b[0m\u001b[0mH\u001b[0m\u001b[0;34m)\u001b[0m\u001b[0;34m\u001b[0m\u001b[0;34m\u001b[0m\u001b[0m\n\u001b[0m\u001b[1;32m     91\u001b[0m           \u001b[0mx_l\u001b[0m \u001b[0;34m=\u001b[0m \u001b[0mnp\u001b[0m\u001b[0;34m.\u001b[0m\u001b[0mmatmul\u001b[0m\u001b[0;34m(\u001b[0m\u001b[0mA\u001b[0m\u001b[0;34m,\u001b[0m\u001b[0mx\u001b[0m\u001b[0;34m)\u001b[0m\u001b[0;34m\u001b[0m\u001b[0;34m\u001b[0m\u001b[0m\n\u001b[1;32m     92\u001b[0m           \u001b[0;32mif\u001b[0m \u001b[0mabs\u001b[0m\u001b[0;34m(\u001b[0m\u001b[0mh_norm\u001b[0m\u001b[0;34m(\u001b[0m\u001b[0mx_l\u001b[0m\u001b[0;34m,\u001b[0m\u001b[0mN\u001b[0m\u001b[0;34m,\u001b[0m\u001b[0md\u001b[0m\u001b[0;34m)\u001b[0m\u001b[0;34m+\u001b[0m\u001b[0;36m1\u001b[0m\u001b[0;34m)\u001b[0m \u001b[0;34m<\u001b[0m \u001b[0merror\u001b[0m\u001b[0;34m:\u001b[0m\u001b[0;34m\u001b[0m\u001b[0;34m\u001b[0m\u001b[0m\n",
            "\u001b[0;32m/usr/local/lib/python3.10/dist-packages/numpy/core/overrides.py\u001b[0m in \u001b[0;36minv\u001b[0;34m(*args, **kwargs)\u001b[0m\n",
            "\u001b[0;32m/usr/local/lib/python3.10/dist-packages/numpy/linalg/linalg.py\u001b[0m in \u001b[0;36minv\u001b[0;34m(a)\u001b[0m\n\u001b[1;32m    543\u001b[0m     \u001b[0msignature\u001b[0m \u001b[0;34m=\u001b[0m \u001b[0;34m'D->D'\u001b[0m \u001b[0;32mif\u001b[0m \u001b[0misComplexType\u001b[0m\u001b[0;34m(\u001b[0m\u001b[0mt\u001b[0m\u001b[0;34m)\u001b[0m \u001b[0;32melse\u001b[0m \u001b[0;34m'd->d'\u001b[0m\u001b[0;34m\u001b[0m\u001b[0;34m\u001b[0m\u001b[0m\n\u001b[1;32m    544\u001b[0m     \u001b[0mextobj\u001b[0m \u001b[0;34m=\u001b[0m \u001b[0mget_linalg_error_extobj\u001b[0m\u001b[0;34m(\u001b[0m\u001b[0m_raise_linalgerror_singular\u001b[0m\u001b[0;34m)\u001b[0m\u001b[0;34m\u001b[0m\u001b[0;34m\u001b[0m\u001b[0m\n\u001b[0;32m--> 545\u001b[0;31m     \u001b[0mainv\u001b[0m \u001b[0;34m=\u001b[0m \u001b[0m_umath_linalg\u001b[0m\u001b[0;34m.\u001b[0m\u001b[0minv\u001b[0m\u001b[0;34m(\u001b[0m\u001b[0ma\u001b[0m\u001b[0;34m,\u001b[0m \u001b[0msignature\u001b[0m\u001b[0;34m=\u001b[0m\u001b[0msignature\u001b[0m\u001b[0;34m,\u001b[0m \u001b[0mextobj\u001b[0m\u001b[0;34m=\u001b[0m\u001b[0mextobj\u001b[0m\u001b[0;34m)\u001b[0m\u001b[0;34m\u001b[0m\u001b[0;34m\u001b[0m\u001b[0m\n\u001b[0m\u001b[1;32m    546\u001b[0m     \u001b[0;32mreturn\u001b[0m \u001b[0mwrap\u001b[0m\u001b[0;34m(\u001b[0m\u001b[0mainv\u001b[0m\u001b[0;34m.\u001b[0m\u001b[0mastype\u001b[0m\u001b[0;34m(\u001b[0m\u001b[0mresult_t\u001b[0m\u001b[0;34m,\u001b[0m \u001b[0mcopy\u001b[0m\u001b[0;34m=\u001b[0m\u001b[0;32mFalse\u001b[0m\u001b[0;34m)\u001b[0m\u001b[0;34m)\u001b[0m\u001b[0;34m\u001b[0m\u001b[0;34m\u001b[0m\u001b[0m\n\u001b[1;32m    547\u001b[0m \u001b[0;34m\u001b[0m\u001b[0m\n",
            "\u001b[0;32m/usr/local/lib/python3.10/dist-packages/numpy/linalg/linalg.py\u001b[0m in \u001b[0;36m_raise_linalgerror_singular\u001b[0;34m(err, flag)\u001b[0m\n\u001b[1;32m     86\u001b[0m \u001b[0;34m\u001b[0m\u001b[0m\n\u001b[1;32m     87\u001b[0m \u001b[0;32mdef\u001b[0m \u001b[0m_raise_linalgerror_singular\u001b[0m\u001b[0;34m(\u001b[0m\u001b[0merr\u001b[0m\u001b[0;34m,\u001b[0m \u001b[0mflag\u001b[0m\u001b[0;34m)\u001b[0m\u001b[0;34m:\u001b[0m\u001b[0;34m\u001b[0m\u001b[0;34m\u001b[0m\u001b[0m\n\u001b[0;32m---> 88\u001b[0;31m     \u001b[0;32mraise\u001b[0m \u001b[0mLinAlgError\u001b[0m\u001b[0;34m(\u001b[0m\u001b[0;34m\"Singular matrix\"\u001b[0m\u001b[0;34m)\u001b[0m\u001b[0;34m\u001b[0m\u001b[0;34m\u001b[0m\u001b[0m\n\u001b[0m\u001b[1;32m     89\u001b[0m \u001b[0;34m\u001b[0m\u001b[0m\n\u001b[1;32m     90\u001b[0m \u001b[0;32mdef\u001b[0m \u001b[0m_raise_linalgerror_nonposdef\u001b[0m\u001b[0;34m(\u001b[0m\u001b[0merr\u001b[0m\u001b[0;34m,\u001b[0m \u001b[0mflag\u001b[0m\u001b[0;34m)\u001b[0m\u001b[0;34m:\u001b[0m\u001b[0;34m\u001b[0m\u001b[0;34m\u001b[0m\u001b[0m\n",
            "\u001b[0;31mLinAlgError\u001b[0m: Singular matrix"
          ]
        }
      ]
    },
    {
      "cell_type": "markdown",
      "source": [
        "#### Problem with ProjectX, we don't need it anymore, need to redefine x2hdm"
      ],
      "metadata": {
        "id": "xLBIfOBNfbdN"
      }
    },
    {
      "cell_type": "code",
      "source": [
        "def x2hdm_v2(N,land, X,d):\n",
        "  n = N-land\n",
        "  G = x2hgram_v2(N,d,X)\n",
        "  D = _arccosh(G)\n",
        "\n",
        "  return D \n",
        "\n",
        "\n",
        "def x2hgram_v2(N,d, X):\n",
        "  n = N-d\n",
        "\n",
        "  G = x2lgram(N,d, X)\n",
        "  return G"
      ],
      "metadata": {
        "id": "yv-M7mzLde6A"
      },
      "execution_count": 23,
      "outputs": []
    },
    {
      "cell_type": "code",
      "source": [
        "D_hat = x2hdm_v2(nNodes,nlandmarks, X_hat,d)"
      ],
      "metadata": {
        "colab": {
          "base_uri": "https://localhost:8080/"
        },
        "id": "2c3UGjZceid-",
        "outputId": "66de2295-1af0-4d73-a0bb-0e849d8e9c25"
      },
      "execution_count": 24,
      "outputs": [
        {
          "output_type": "stream",
          "name": "stderr",
          "text": [
            "<ipython-input-21-cd0d0a9876df>:35: RuntimeWarning: invalid value encountered in arccosh\n",
            "  D = np.arccosh(-G)\n"
          ]
        }
      ]
    },
    {
      "cell_type": "code",
      "source": [
        "D_hat.shape"
      ],
      "metadata": {
        "colab": {
          "base_uri": "https://localhost:8080/"
        },
        "id": "09kMAebJent9",
        "outputId": "286de93f-af40-4fc4-b2bf-6018643d663d"
      },
      "execution_count": 25,
      "outputs": [
        {
          "output_type": "execute_result",
          "data": {
            "text/plain": [
              "(250, 250)"
            ]
          },
          "metadata": {},
          "execution_count": 25
        }
      ]
    },
    {
      "cell_type": "code",
      "source": [
        "np.save('/content/D_hat', D_hat)"
      ],
      "metadata": {
        "id": "CBJ2nkqnRJIa"
      },
      "execution_count": 27,
      "outputs": []
    }
  ]
}