{
  "nbformat": 4,
  "nbformat_minor": 0,
  "metadata": {
    "colab": {
      "provenance": [],
      "collapsed_sections": [
        "yxWcfO2Ju0-P",
        "nJxEVSHXRl3O",
        "GxJxeuFpvBr2",
        "cXUiC0u4LZFq",
        "EbJWZ_OTcFvq",
        "xLBIfOBNfbdN"
      ],
      "gpuType": "T4",
      "authorship_tag": "ABX9TyPEgMbwPenh+bRM0KVc+4H2",
      "include_colab_link": true
    },
    "kernelspec": {
      "name": "python3",
      "display_name": "Python 3"
    },
    "language_info": {
      "name": "python"
    },
    "accelerator": "GPU"
  },
  "cells": [
    {
      "cell_type": "markdown",
      "metadata": {
        "id": "view-in-github",
        "colab_type": "text"
      },
      "source": [
        "<a href=\"https://colab.research.google.com/github/blazingbhavneek/hyperbolic-ml/blob/main/L_Hydra%2B_Cleaned.ipynb\" target=\"_parent\"><img src=\"https://colab.research.google.com/assets/colab-badge.svg\" alt=\"Open In Colab\"/></a>"
      ]
    },
    {
      "cell_type": "markdown",
      "source": [
        "# L-Hydra (Cleaned, with Random Graph)"
      ],
      "metadata": {
        "id": "yYkNZln4tmYU"
      }
    },
    {
      "cell_type": "markdown",
      "source": [
        "## Imports"
      ],
      "metadata": {
        "id": "yxWcfO2Ju0-P"
      }
    },
    {
      "cell_type": "code",
      "source": [
        "import numpy as np\n",
        "import os, math, warnings\n",
        "import sys, time, pdb, os, pickle\n",
        "from numpy import *\n",
        "import networkx as nx\n",
        "from scipy.linalg import eigh\n",
        "import sys, time, pdb, os, pickle\n",
        "from scipy.optimize import minimize, fmin_l_bfgs_b\n",
        "!pip install mpi4py"
      ],
      "metadata": {
        "id": "AZQsvFahtt9t",
        "outputId": "f3970356-7747-4d96-b94f-b067903489a7",
        "colab": {
          "base_uri": "https://localhost:8080/"
        }
      },
      "execution_count": 1,
      "outputs": [
        {
          "output_type": "stream",
          "name": "stdout",
          "text": [
            "Collecting mpi4py\n",
            "  Downloading mpi4py-3.1.4.tar.gz (2.5 MB)\n",
            "\u001b[2K     \u001b[90m━━━━━━━━━━━━━━━━━━━━━━━━━━━━━━━━━━━━━━━━\u001b[0m \u001b[32m2.5/2.5 MB\u001b[0m \u001b[31m32.0 MB/s\u001b[0m eta \u001b[36m0:00:00\u001b[0m\n",
            "\u001b[?25h  Installing build dependencies ... \u001b[?25l\u001b[?25hdone\n",
            "  Getting requirements to build wheel ... \u001b[?25l\u001b[?25hdone\n",
            "  Preparing metadata (pyproject.toml) ... \u001b[?25l\u001b[?25hdone\n",
            "Building wheels for collected packages: mpi4py\n",
            "  Building wheel for mpi4py (pyproject.toml) ... \u001b[?25l\u001b[?25hdone\n",
            "  Created wheel for mpi4py: filename=mpi4py-3.1.4-cp310-cp310-linux_x86_64.whl size=3365655 sha256=75f36a5fa55aee936ae64488aefd54fa39f0878ec6d3bbd938e629143104b186\n",
            "  Stored in directory: /root/.cache/pip/wheels/e8/1b/b5/97ec4cfccdde26e0f3590ad6e09a5242d508dff09704ef86c1\n",
            "Successfully built mpi4py\n",
            "Installing collected packages: mpi4py\n",
            "Successfully installed mpi4py-3.1.4\n"
          ]
        }
      ]
    },
    {
      "cell_type": "markdown",
      "source": [
        "## Parameters"
      ],
      "metadata": {
        "id": "nJxEVSHXRl3O"
      }
    },
    {
      "cell_type": "code",
      "source": [
        "nlandmarks = 101\n",
        "nNodes = 250\n",
        "curvature = 1\n",
        "dim = 100\n",
        "d = dim-1\n",
        "alpha = 1\n",
        "equi_adj = 0.5\n",
        "\n",
        "# L-Hydra +\n",
        "nrepeat = 8\n",
        "nodes_per_run = 40\n",
        "n_split = int(ceil((nNodes-nlandmarks)/float(nodes_per_run)))\n",
        "maxprocs4seed = 8"
      ],
      "metadata": {
        "id": "30kbnGn5wciI"
      },
      "execution_count": 73,
      "outputs": []
    },
    {
      "cell_type": "markdown",
      "source": [
        "## Generating Random X and D"
      ],
      "metadata": {
        "id": "GxJxeuFpvBr2"
      }
    },
    {
      "cell_type": "code",
      "source": [
        "def randX(N,land, d):\n",
        "  n = N-land\n",
        "  n_temp = n\n",
        "  param = 0.4  #distance thresold\n",
        "  g = nx.generators.random_geometric_graph(n_temp, param, seed = 1)\n",
        "  W = np.zeros((n_temp, n_temp))\n",
        "  for (x,y) in g.edges:\n",
        "    W[x][y] = np.random.uniform(0.1,3)\n",
        "  W_hat = W + W.T\n",
        "  L = np.diag(np.matmul(W_hat,np.ones(W_hat.shape[0]))) - W_hat\n",
        "\n",
        "  np.random.seed(1)\n",
        "  X_na = np.random.multivariate_normal(np.zeros(n), np.linalg.pinv(L),d+1)\n",
        "\n",
        "  np.random.seed(5)\n",
        "  X_a = np.random.normal(0,1,size=(d+1,land))\n",
        "\n",
        "  X = np.hstack((X_a, X_na))\n",
        "\n",
        "  for i in range(N):\n",
        "    X[0,i] = np.sqrt(1+np.linalg.norm(X[1:d+1,i])**2);\n",
        "\n",
        "  return X\n",
        "\n",
        "\n",
        "def x2hdm(N,land, X,d):\n",
        "  n = N-land\n",
        "  G = x2hgram(N,d,X)\n",
        "  D = _arccosh(G)\n",
        "\n",
        "  return D\n",
        "\n",
        "\n",
        "def _arccosh(G):\n",
        "  D = np.arccosh(-G)\n",
        "  return D\n",
        "\n",
        "\n",
        "def x2hgram(N,d, X):\n",
        "  n = N-d\n",
        "\n",
        "  X_ = X\n",
        "  for n in range(N):\n",
        "      x = X_[:,n]\n",
        "      X_[:,n] = projectX(N,d,x)\n",
        "\n",
        "  G = x2lgram(N,d, X_)\n",
        "\n",
        "  E1 = G-valid(G)\n",
        "\n",
        "  if np.linalg.norm(E1,'fro') > 1e-10:\n",
        "      print(np.linalg.norm(E1,'fro'))\n",
        "      print('inaccuracy in  x2hgram - ')\n",
        "\n",
        "  E2 = G-l_rankPrj(G, N)\n",
        "\n",
        "  if np.linalg.norm(E2,'fro') > 1e-10:\n",
        "      print(np.linalg.norm(E2,'fro'))\n",
        "      print('inaccuracy in  x2hgram -- ')\n",
        "  return G\n",
        "\n",
        "\n",
        "def projectX(N,d,x):\n",
        "  n= N-d\n",
        "\n",
        "\n",
        "  H = np.eye(d+1)\n",
        "  H[0,0] = -1\n",
        "  I = np.eye(d+1)\n",
        "\n",
        "  x0 = x[0]\n",
        "\n",
        "  eps = 1e-15\n",
        "  center = 0\n",
        "  error = abs(h_norm(x,N,d)+1)\n",
        "\n",
        "  A_opt = I\n",
        "  for i in range(50):\n",
        "      l = 10**(-i)\n",
        "      if x0 > 0:\n",
        "          lambda_min = max(center-l, -1+eps)\n",
        "          lambda_max = min(center+l, 1-eps)\n",
        "          number = 50\n",
        "      else:\n",
        "          lambda_min = max(center-l*10000, 1+eps)\n",
        "          lambda_max = center+l*10000\n",
        "          number = 100\n",
        "      lambda_list = np.linspace(lambda_min,lambda_max,num=number)\n",
        "      for lambda_ in lambda_list:\n",
        "          A = np.linalg.inv(I + lambda_*H)\n",
        "          x_l = np.matmul(A,x)\n",
        "          if abs(h_norm(x_l,N,d)+1) < error:\n",
        "              A_opt = A\n",
        "              error = abs(h_norm(x_l,N,d)+1)\n",
        "              center = lambda_\n",
        "  x_opt = np.matmul(A_opt,x)\n",
        "  if error > 1e-5:\n",
        "      print('error: ',error, \"centre: \", center)\n",
        "\n",
        "  return x_opt\n",
        "\n",
        "\n",
        "def x2lgram(N,d,X):\n",
        "  n= N-d\n",
        "\n",
        "  H = np.eye(d+1)\n",
        "  H[0,0] = -1\n",
        "\n",
        "  G = np.matmul(np.matmul(X.T,H),X)\n",
        "  return G\n",
        "\n",
        "\n",
        "def h_norm(x,N,d):\n",
        "  n= N-d\n",
        "\n",
        "  H = np.eye(d+1)\n",
        "  H[0,0] = -1\n",
        "\n",
        "  x_norm = np.matmul(np.matmul(x.T,H),x)\n",
        "  return x_norm\n",
        "\n",
        "\n",
        "def valid(G):\n",
        "  np.fill_diagonal(G, -1)\n",
        "  G[G >= -1] = -1\n",
        "\n",
        "  return G\n",
        "\n",
        "\n",
        "def l_rankPrj(G, N):\n",
        "  X = lgram2x(N,d,G)\n",
        "\n",
        "  return x2lgram(N,d,X)\n",
        "\n",
        "\n",
        "def lgram2x(N,d,G):\n",
        "  n= N-d\n",
        "\n",
        "  w, v = np.linalg.eig(G)\n",
        "  w = w.real\n",
        "  v = v.real\n",
        "\n",
        "  lambda_0 = np.amin(w)\n",
        "  ind_0 = np.argmin(w)\n",
        "  w = np.delete(w, ind_0)\n",
        "  ind = np.argsort(-w)\n",
        "  w = -np.sort(-w)\n",
        "  ind = ind[:d]\n",
        "  w = w[:d]\n",
        "\n",
        "  lambda_ = np.concatenate((abs(lambda_0), w), axis=None)\n",
        "  lambda_[lambda_ <= 0] = 0\n",
        "  lambda_ = np.sqrt(lambda_)\n",
        "\n",
        "  ind_ = np.concatenate((ind_0, ind+1), axis=None)\n",
        "  v = v[:, ind_]\n",
        "  X = np.matmul(np.diag(lambda_),v.T)\n",
        "\n",
        "  if X[0,0] < 0:\n",
        "      X = -X\n",
        "\n",
        "  return X"
      ],
      "metadata": {
        "id": "IP-djc-AtmBl"
      },
      "execution_count": 70,
      "outputs": []
    },
    {
      "cell_type": "code",
      "source": [
        "#---------- Generating Random X and D ----------\n",
        "d = dim-1\n",
        "\n",
        "X = randX(nNodes,nlandmarks, d)\n",
        "print(\"X: \",X.shape)\n",
        "\n",
        "D = x2hdm(nNodes,nlandmarks, X,d)\n",
        "D = (D+D.T)/2\n",
        "print(\"D: \", D.shape)\n",
        "\n",
        "L2n = D[:nlandmarks,:]\n",
        "print(\"L2n: \", L2n.shape)\n",
        "#---------- ------------------------ ----------"
      ],
      "metadata": {
        "colab": {
          "base_uri": "https://localhost:8080/"
        },
        "id": "xypLMcP8yFwz",
        "outputId": "7f65b269-cb99-40c7-92a8-b4576f00e40a"
      },
      "execution_count": null,
      "outputs": [
        {
          "output_type": "stream",
          "name": "stdout",
          "text": [
            "X:  (100, 250)\n",
            "D:  (250, 250)\n",
            "L2n:  (101, 250)\n"
          ]
        }
      ]
    },
    {
      "cell_type": "code",
      "source": [
        "np.save('/content/X', X)\n",
        "np.save('/content/D', D)"
      ],
      "metadata": {
        "id": "qkmnmzeVRV9y"
      },
      "execution_count": null,
      "outputs": []
    },
    {
      "cell_type": "markdown",
      "source": [
        "## Objective function definitions\n"
      ],
      "metadata": {
        "id": "cXUiC0u4LZFq"
      }
    },
    {
      "cell_type": "code",
      "source": [
        "# Frobenius Norm\n",
        "def f(X,Y):\n",
        "\treturn .5*linalg.norm(X-Y, ord='fro')**2\n",
        "\n",
        "# Matrix Difference\n",
        "def df(X,Y):\n",
        "\treturn X-Y\n",
        "\n",
        "# Hyperbolic Distance\n",
        "def hype_dist(p1,p2,curv):\n",
        "\tk = curv\n",
        "\tc = 1./sqrt(abs(k))\n",
        "\tx = dot(p1,p2)\n",
        "\tusq1 = dot(p1,p1) + 1.0\n",
        "\tusq2 = dot(p2,p2) + 1.0\n",
        "\tudotu = x - sqrt(usq1)*sqrt(usq2)\n",
        "\tacoshudotu = real(arccosh(-udotu + 0j))\n",
        "\td = acoshudotu * c\n",
        "\treturn d\n",
        "\n",
        "# Objective func for Xl: Eq 14a\n",
        "def land_obj(x,**kwargs):\n",
        "\tdim = kwargs['dim']\n",
        "\tD0 = kwargs['D_landmark']\n",
        "\tgrad = zeros(len(x))\n",
        "\tpoints = len(x[:-1])//dim\n",
        "\tk = x[-1]\n",
        "\tc = 1./sqrt(abs(k))\n",
        "\tP = x[:-1].reshape((points,dim))\n",
        "\n",
        "\tX = dot(P,P.T)\n",
        "\tUsq = diag(X) + 1.0\n",
        "\tU = sqrt(Usq)\n",
        "\tUdotU = X - outer(U,U)\n",
        "\tacoshUdotU = real(arccosh(-UdotU + 0j))\n",
        "\tfill_diagonal(acoshUdotU,0.0)\n",
        "\n",
        "\tD = acoshUdotU*c;\n",
        "\tD[isnan(D)] = 0\n",
        "\tdE = df(D,D0)\n",
        "\terr = f(D,D0)/2.0 # since matrix is symmetric\n",
        "\n",
        "\t# compute gradient w.r.t. k\n",
        "\tgradk = - dE * acoshUdotU * .5 * k * abs(k)**-2.5\n",
        "\tgrad[-1] = sum(sum(gradk))/2.0 # divide by two since matrix is symmetric\n",
        "\n",
        "\t# compute gradient\n",
        "\ttol = 1e-12\n",
        "\tAtemp = UdotU**2 - 1.0\n",
        "\tAtemp[Atemp<=0] = tol\n",
        "\tA = - 1./sqrt(Atemp) * c\n",
        "\tB = outer(1./U,U)\n",
        "\tC = dE * A\n",
        "\tH1 = C * B\n",
        "\thsum = sum(H1,1)\n",
        "\tL = len(D0)\n",
        "\tCi = zeros((len(C),len(C)))\n",
        "\tfor i in range(L):\n",
        "\t\tui = P[i,:]\n",
        "\t\thi = hsum[i]\n",
        "\t\tfill_diagonal(Ci,C[i])\n",
        "\t\tg = sum(dot(P.T,Ci),1) - hi*ui\n",
        "\t\tgrad[dim*i:(i+1)*dim] = g\n",
        "\n",
        "\treturn err, grad\n",
        "\n",
        "# Objective func for Xn: Eq 14b\n",
        "def nonland_obj(x, node, **kwargs):\n",
        "\t'''\n",
        "\tcomputes nonlandmark error for an entire nonlandmark\n",
        "\tmatrix D0\n",
        "\t'''\n",
        "\t# node is index of D_nonland not D_land2nodes\n",
        "\tdim = kwargs['dim']\n",
        "\tD0 = kwargs['D_nonland']\n",
        "\tL = kwargs['Land_points']\n",
        "\tn_land, dim = L.shape\n",
        "\tnl_id = node\n",
        "\tk = kwargs['k']\n",
        "\tc = 1./sqrt(abs(k))\n",
        "\n",
        "\tX = dot(L,x)\n",
        "\tu = sqrt(dot(x,x) + 1.0)\n",
        "\tV = sqrt(sum(L.T**2,0) + 1.0)\n",
        "\tudotV = outer(u,V) - X\n",
        "\td = real(arccosh(udotV + 0j)) * c\n",
        "\td0 = D0[:,nl_id]\n",
        "\terr = f(d,d0)\n",
        "\tderr = df(d,d0)\n",
        "\n",
        "\t# compute gradient\n",
        "\ttol = 1e-12\n",
        "\tAtemp = udotV**2 - 1.0\n",
        "\tAtemp[Atemp<=0] = tol\n",
        "\tA = - 1./sqrt(Atemp) * c\n",
        "\tB = outer(1./u,V)\n",
        "\tC = derr * A\n",
        "\tH1 = C * B\n",
        "\tH1.shape = (n_land,1)\n",
        "\tC.shape = (n_land,1)\n",
        "\n",
        "\tui = x\n",
        "\tUi = tile(ui,(n_land,1)).T\n",
        "\tHi = diag(H1[:,0])\n",
        "\tCi = diag(C[:,0])\n",
        "\tG = dot(L.T,Ci) - dot(Ui,Hi)\n",
        "\tgrad = sum(G,1)\n",
        "\n",
        "\treturn err, grad"
      ],
      "metadata": {
        "id": "KeFJ1XNfLWdK"
      },
      "execution_count": null,
      "outputs": []
    },
    {
      "cell_type": "markdown",
      "source": [
        "## Generating X_hat (L_Hydra )"
      ],
      "metadata": {
        "id": "EbJWZ_OTcFvq"
      }
    },
    {
      "cell_type": "code",
      "source": [
        "land_ids = [i for i in range(nlandmarks)]\n",
        "non_land_ids = [i for i in range(nlandmarks,nNodes)]\n",
        "D_land2nodes, D_land, land_ids, D_nonland, nonland_ids = L2n, L2n[:,:nlandmarks], land_ids, L2n[:,nlandmarks:], non_land_ids"
      ],
      "metadata": {
        "id": "31UmfYBqMdQ2"
      },
      "execution_count": null,
      "outputs": []
    },
    {
      "cell_type": "code",
      "source": [
        "def hydra_landmark_fixed_curvature(curvature, dim, alpha, equi_adj, polar=False, isotropic_adj=True, hydra=False, lorentz=False):\n",
        "  '''\n",
        "\t\tParameters\n",
        "\t\t----------\n",
        "\t\tcurvature : Float, optional\n",
        "\t\t\tEmbedding curvature. The default is 1.\n",
        "\t\tdim : Int, optional\n",
        "\t\t\tEmbedding dimension. The default is 2.\n",
        "\t\talpha : Float, optional\n",
        "\t\t\tAdjusts the hyperbolic curvature. Values larger than one yield a\n",
        "\t\t\tmore distorted embedding where points are pushed to the outer\n",
        "\t\t\tboundary (i.e. the ideal points) of hyperblic space. The\n",
        "\t\t\tinteraction between code{curvature} and code{alpha} is non-linear.\n",
        "\t\t\tThe default is 1.1.\n",
        "\t\tequi_adj : Float, optional\n",
        "\t\t\tEqui-angular adjustment; must be a real number between zero and\n",
        "\t\t\tone; only used if dim is 2. Value 0 means no ajustment, 1\n",
        "\t\t\tadjusts embedded data points such that their angular coordinates\n",
        "\t\t\tin the Poincare disc are uniformly distributed. Other values\n",
        "\t\t\tinterpolate between the two extremes. Setting the parameter to non-\n",
        "\t\t\tzero values can make the embedding result look more harmoniuous in\n",
        "\t\t\tplots. The default is 0.5.\n",
        "\t\tpolar:\n",
        "\t\t\tReturn polar coordinates in dimension 2. (This flag is\n",
        "\t\t\tignored in higher dimension).\n",
        "\t\tisotropic_adj :\n",
        "\t\t\tPerform isotropic adjustment, ignoring Eigenvalues\n",
        "\t\t\t(default: TRUE if dim is 2, FALSE else)\n",
        "\t\thydra:\n",
        "\t\t\tReturn radial and spherical coordinates (default: FALSE)\n",
        "\t\tlorentz:\n",
        "\t\t\tReturn raw Lorentz coordinates (before projection to\n",
        "\t\t\thyperbolic space) (default: FALSE)\n",
        "\n",
        "\t\tYields\n",
        "\t\t------\n",
        "\t\tX : float array\n",
        "\t\t\tHyperbolic coordinates in chosen space\n",
        "    '''\n",
        "\n",
        "    nodes = nNodes\n",
        "\n",
        "    # sanitize/check input\n",
        "    if any(np.diag(D_land) != 0):  # non-zero diagonal elements are set to zero\n",
        "      np.fill_diagonal(D_land, 0)\n",
        "      warnings.warn(\"Diagonal of input matrix D_land has been set to zero\")\n",
        "\n",
        "    if dim > len(D_land):\n",
        "      raise RuntimeError(\n",
        "        f\"Hydra cannot embed {len(D_land)} points in {dim}-dimensions. Limit of {len(D_land)}.\"\n",
        "      )\n",
        "\n",
        "    if not np.allclose(D_land, np.transpose(D_land)):\n",
        "      warnings.warn(\n",
        "        \"Input matrix D_land is not symmetric.\\\n",
        "        Lower triangle part is used.\"\n",
        "      )\n",
        "\n",
        "    if dim > 2:\n",
        "      # set default values in dimension > 2\n",
        "      isotropic_adj = False\n",
        "      if polar:\n",
        "        warnings.warn(\"Polar coordinates only valid in dimension two\")\n",
        "        polar = False\n",
        "      if equi_adj != 0.0:\n",
        "        warnings.warn(\"Equiangular adjustment only possible in dimension two.\")\n",
        "\n",
        "    # convert distance matrix to 'hyperbolic Gram matrix'\n",
        "    A_land = np.cosh(np.sqrt(abs(curvature))*D_land)\n",
        "    A_nonland = np.cosh(np.sqrt(abs(curvature))*D_nonland)\n",
        "\n",
        "    nlm = len(land_ids)\n",
        "    nnonlm = nodes - nlm\n",
        "\n",
        "    # check for large/infinite values\n",
        "    A_max = np.amax(A_land)\n",
        "    if A_max > 1e8:\n",
        "      warnings.warn(\n",
        "        \"Gram Matrix contains values > 1e8. Rerun with smaller\\\n",
        "        curvature parameter or rescaled distances.\"\n",
        "      )\n",
        "    if A_max == float(\"inf\"):\n",
        "      warnings.warn(\n",
        "        \"Gram matrix contains infinite values.\\\n",
        "        Rerun with smaller curvature parameter or rescaled distances.\"\n",
        "      )\n",
        "\n",
        "\n",
        "    # Eigendecomposition of A\n",
        "    # compute leading Eigenvalue and Eigenvector\n",
        "    lambda0, x0 = eigh(A_land, subset_by_index=[nlm-1, nlm-1])\n",
        "    # compute lower tail of spectrum\n",
        "    w, v = eigh(A_land, subset_by_index=[0,dim-1])\n",
        "    print(\"w\",len(w))\n",
        "    print(\"v\", len(v))\n",
        "    idx = w.argsort()[::-1]\n",
        "    # print(\"idx\",len(idx))\n",
        "    spec_tail = w[idx] # Last dim Eigenvalues\n",
        "    print(\"\")\n",
        "    X_land_raw = v[:,idx] # Last dim Eigenvectors\n",
        "    print(\"shape of  X_land_raw\",  X_land_raw.shape)\n",
        "\n",
        "    x0 = x0 * np.sqrt(lambda0) # scale by Eigenvalue\n",
        "    if x0[0]<0:\n",
        "      x0 = -x0 # Flip sign if first element negative\n",
        "\n",
        "    # no isotropic adjustment: rescale Eigenvectors by Eigenvalues\n",
        "    if not isotropic_adj:\n",
        "      if np.array([spec_tail > 0]).any():\n",
        "        warnings.warn(\n",
        "          \"Spectral Values have been truncated to zero. Try to use\\\n",
        "          lower embedding dimension\"\n",
        "        )\n",
        "        spec_tail[spec_tail > 0] = 0\n",
        "      X_land_raw = np.matmul(X_land_raw, np.diag(np.sqrt(np.maximum(-spec_tail,0))))\n",
        "\n",
        "    X_nonland = np.matmul(np.transpose(A_nonland), np.c_[(x0/lambda0), -(X_land_raw/abs(spec_tail))])\n",
        "\n",
        "    X_raw = np.zeros((nodes, dim))\n",
        "\n",
        "    print(len(land_ids))\n",
        "    X_raw[land_ids,:] = X_land_raw\n",
        "\n",
        "    X_raw[nonland_ids,:] = X_nonland[:,1:(dim+1)]\n",
        "\n",
        "    x0_full = np.zeros((nodes, 1))\n",
        "    x0_full[land_ids,0] = x0[:,0]\n",
        "    x0_full[nonland_ids,0] = X_nonland[:,0]\n",
        "    x_min = x0_full.min()\n",
        "\n",
        "\n",
        "    if hydra:\n",
        "      # Calculate radial coordinate\n",
        "      s = np.sqrt(np.sum(X_raw ** 2, axis=1))\n",
        "      directional = X_raw / s[:, None]  # convert to directional coordinates\n",
        "      r = np.sqrt((alpha*x0_full - x_min)/(alpha*x0_full + x_min)) ## multiplicative adjustment (scaling)\n",
        "      X = self.poincare_to_hyper(r=r, directional=directional)\n",
        "    else:\n",
        "      X = X_raw\n",
        "\n",
        "    # Calculate polar coordinates if dimension is 2\n",
        "    if dim == 2:\n",
        "      # calculate polar angle\n",
        "      theta = np.arctan2(X[:, 0], -X[:, 1])\n",
        "\n",
        "      # Equiangular adjustment\n",
        "      if equi_adj > 0.0:\n",
        "        angles = [(2 * x / nodes - 1) * math.pi for x in range(0, nodes)]\n",
        "        theta_equi = np.array(\n",
        "          [x for _, x in sorted(zip(theta, angles))]\n",
        "        )  # Equi-spaced angles\n",
        "        # convex combination of original and equi-spaced angles\n",
        "        theta = (1 - equi_adj) * theta + equi_adj * theta_equi\n",
        "        # update directional coordinate\n",
        "        directional = np.array([np.cos(theta), np.sin(theta)]).transpose()\n",
        "\n",
        "    if lorentz:\n",
        "      X_lorentz = np.concatenate((x0_full, X), axis=1)\n",
        "\n",
        "    return X"
      ],
      "metadata": {
        "id": "--ccsAUJMxL3"
      },
      "execution_count": null,
      "outputs": []
    },
    {
      "cell_type": "code",
      "source": [
        "X_hat = hydra_landmark_fixed_curvature(curvature, dim, alpha, equi_adj)"
      ],
      "metadata": {
        "colab": {
          "base_uri": "https://localhost:8080/"
        },
        "id": "4YjgPOcAP2vK",
        "outputId": "f4920a96-0dfd-4f45-917f-2ce0597835c7"
      },
      "execution_count": null,
      "outputs": [
        {
          "output_type": "stream",
          "name": "stdout",
          "text": [
            "w 100\n",
            "v 101\n",
            "\n",
            "shape of  X_land_raw (101, 100)\n",
            "101\n"
          ]
        },
        {
          "output_type": "stream",
          "name": "stderr",
          "text": [
            "<ipython-input-11-446413e345e6>:28: UserWarning: Equiangular adjustment only possible in dimension two.\n",
            "  warnings.warn(\"Equiangular adjustment only possible in dimension two.\")\n",
            "<ipython-input-11-446413e345e6>:72: UserWarning: Spectral Values have been truncated to zero. Try to use          lower embedding dimension\n",
            "  warnings.warn(\n",
            "<ipython-input-11-446413e345e6>:79: RuntimeWarning: invalid value encountered in true_divide\n",
            "  X_nonland = np.matmul(np.transpose(A_nonland), np.c_[(x0/lambda0), -(X_land_raw/abs(spec_tail))])\n"
          ]
        }
      ]
    },
    {
      "cell_type": "markdown",
      "source": [
        "### Tranposing X_hat for x2hdm, to get D_hat"
      ],
      "metadata": {
        "id": "jRyJuwaAwCfP"
      }
    },
    {
      "cell_type": "code",
      "source": [
        "X_hat.shape"
      ],
      "metadata": {
        "colab": {
          "base_uri": "https://localhost:8080/"
        },
        "id": "KqSRT0wRZinV",
        "outputId": "08ee1fda-0544-490f-8321-803a5ff98294"
      },
      "execution_count": null,
      "outputs": [
        {
          "output_type": "execute_result",
          "data": {
            "text/plain": [
              "(250, 100)"
            ]
          },
          "metadata": {},
          "execution_count": 16
        }
      ]
    },
    {
      "cell_type": "code",
      "source": [
        "X_hat = X_hat.T"
      ],
      "metadata": {
        "id": "Z4jcwkSuZs6f"
      },
      "execution_count": null,
      "outputs": []
    },
    {
      "cell_type": "code",
      "source": [
        "X_hat.shape"
      ],
      "metadata": {
        "colab": {
          "base_uri": "https://localhost:8080/"
        },
        "id": "5Uk8wrXqZ_5b",
        "outputId": "2f1efff7-302b-469f-ebe0-311605bd0621"
      },
      "execution_count": null,
      "outputs": [
        {
          "output_type": "execute_result",
          "data": {
            "text/plain": [
              "(100, 250)"
            ]
          },
          "metadata": {},
          "execution_count": 18
        }
      ]
    },
    {
      "cell_type": "code",
      "source": [
        "np.save('/content/X_hat', X_hat)"
      ],
      "metadata": {
        "id": "ATiVNePpQ9nU"
      },
      "execution_count": null,
      "outputs": []
    },
    {
      "cell_type": "code",
      "source": [
        "D_hat = x2hdm(nNodes,nlandmarks, X_hat,d)"
      ],
      "metadata": {
        "colab": {
          "base_uri": "https://localhost:8080/",
          "height": 1000
        },
        "id": "rauxwWYWQNrw",
        "outputId": "f7889759-a76c-4392-d687-06018369517b"
      },
      "execution_count": null,
      "outputs": [
        {
          "output_type": "stream",
          "name": "stdout",
          "text": [
            "error:  1.0000000000000058 centre:  10838.383838383837\n",
            "error:  1.0000000000000053 centre:  10838.39393939394\n",
            "error:  1.0000000000000067 centre:  10858.585858585859\n",
            "error:  1.000000000000007 centre:  10858.585858585859\n",
            "error:  1.000000000000007 centre:  10878.787878787878\n",
            "error:  1.000000000000006 centre:  10757.585858585859\n",
            "error:  1.000000000000007 centre:  10757.585858585859\n",
            "error:  1.0000000000000067 centre:  10818.191919191919\n",
            "error:  1.0000000000000058 centre:  10858.585858585859\n",
            "error:  1.000000000000007 centre:  10979.797979797979\n",
            "error:  1.0000000000000089 centre:  10979.797979797979\n",
            "error:  1.0000000000000056 centre:  10777.787878787878\n",
            "error:  1.0000000000000064 centre:  10919.191919191919\n",
            "error:  1.0000000000000075 centre:  11000.0\n",
            "error:  1.0000000000000067 centre:  10898.9898989899\n",
            "error:  1.0000000000000087 centre:  10959.59595959596\n",
            "error:  1.0000000000000062 centre:  10737.383838383837\n",
            "error:  1.0000000000000078 centre:  10919.191919191919\n",
            "error:  1.0000000000000082 centre:  10878.787878787878\n",
            "error:  1.0000000000000075 centre:  10919.191919191919\n",
            "error:  1.000000000000006 centre:  10818.181818181818\n",
            "error:  1.0000000000000067 centre:  10878.787878787878\n",
            "error:  1.0000000000000053 centre:  10919.191919191919\n",
            "error:  1.0000000000000069 centre:  10858.585858585859\n",
            "error:  1.0000000000000064 centre:  10818.181818181818\n",
            "error:  1.0000000000000064 centre:  10818.191919191919\n",
            "error:  1.000000000000006 centre:  10959.59595959596\n",
            "error:  1.000000000000006 centre:  10757.585858585859\n",
            "error:  1.0000000000000069 centre:  10878.787878787878\n",
            "error:  1.0000000000000073 centre:  10878.797979797979\n",
            "error:  1.0000000000000084 centre:  11000.0\n",
            "error:  1.000000000000006 centre:  10717.181818181818\n",
            "error:  1.0000000000000058 centre:  10777.787878787878\n",
            "error:  1.0000000000000056 centre:  10797.9898989899\n",
            "error:  1.0000000000000084 centre:  10898.9898989899\n",
            "error:  1.0000000000000058 centre:  10818.181818181818\n",
            "error:  1.0000000000000075 centre:  10838.39393939394\n",
            "error:  1.000000000000006 centre:  10878.797979797979\n",
            "error:  1.000000000000005 centre:  10797.979797979799\n",
            "error:  1.0000000000000075 centre:  10878.787878787878\n",
            "error:  1.0000000000000073 centre:  10919.191919191919\n",
            "error:  1.0000000000000047 centre:  11000.0\n",
            "error:  1.000000000000005 centre:  10797.979797979799\n",
            "error:  1.0000000000000069 centre:  10898.9898989899\n",
            "error:  1.0000000000000084 centre:  10959.59595959596\n",
            "error:  1.0000000000000044 centre:  10737.383838383837\n",
            "error:  1.000000000000007 centre:  10878.787878787878\n",
            "error:  1.0000000000000058 centre:  11000.0\n",
            "error:  1.0000000000000053 centre:  10878.797979797979\n",
            "error:  1.000000000000006 centre:  10838.383838383837\n",
            "error:  1.0000000000000064 centre:  10939.39393939394\n",
            "error:  1.0000000000000062 centre:  10858.59595959596\n",
            "error:  1.000000000000007 centre:  10959.59595959596\n",
            "error:  1.0000000000000053 centre:  10858.59595959596\n",
            "error:  1.000000000000008 centre:  11000.0\n",
            "error:  1.0000000000000078 centre:  10898.9898989899\n",
            "error:  1.000000000000007 centre:  10777.787878787878\n",
            "error:  1.0000000000000075 centre:  10919.191919191919\n",
            "error:  1.0000000000000062 centre:  10919.191919191919\n",
            "error:  1.0000000000000075 centre:  10959.59595959596\n",
            "error:  1.0000000000000069 centre:  10959.59595959596\n",
            "error:  1.000000000000008 centre:  10898.9898989899\n",
            "error:  1.0000000000000069 centre:  10898.9898989899\n",
            "error:  1.0000000000000067 centre:  10878.787878787878\n",
            "error:  1.0000000000000056 centre:  10919.191919191919\n",
            "error:  1.0000000000000062 centre:  10979.797979797979\n",
            "error:  1.0000000000000056 centre:  10818.191919191919\n",
            "error:  1.000000000000005 centre:  10858.59595959596\n",
            "error:  1.0000000000000058 centre:  10898.9898989899\n",
            "error:  1.0000000000000058 centre:  10898.9898989899\n",
            "error:  1.0000000000000078 centre:  10939.39393939394\n",
            "error:  1.0000000000000058 centre:  11000.0\n",
            "error:  1.000000000000008 centre:  10959.59595959596\n",
            "error:  1.0000000000000073 centre:  10878.797979797979\n",
            "error:  1.0000000000000075 centre:  10939.39393939394\n",
            "error:  1.0000000000000056 centre:  10858.585858585859\n",
            "error:  1.000000000000006 centre:  10939.39393939394\n",
            "error:  1.0000000000000062 centre:  10898.9898989899\n",
            "error:  1.0000000000000058 centre:  10979.797979797979\n",
            "error:  1.0000000000000062 centre:  10737.383838383837\n",
            "error:  1.0000000000000058 centre:  11000.0\n",
            "error:  1.0000000000000075 centre:  10898.9898989899\n",
            "error:  1.0000000000000078 centre:  10939.39393939394\n",
            "error:  1.0000000000000058 centre:  10898.9898989899\n",
            "error:  1.000000000000007 centre:  10899.0\n",
            "error:  1.0000000000000058 centre:  10878.787878787878\n",
            "error:  1.0000000000000089 centre:  10919.191919191919\n",
            "error:  1.0000000000000064 centre:  10979.797979797979\n",
            "error:  1.0000000000000064 centre:  10979.797979797979\n",
            "error:  1.0000000000000062 centre:  11000.0\n",
            "error:  1.000000000000006 centre:  10899.0\n",
            "error:  1.000000000000007 centre:  10757.585858585859\n",
            "error:  1.0000000000000067 centre:  10919.191919191919\n",
            "error:  1.0000000000000053 centre:  10919.191919191919\n",
            "error:  1.0000000000000062 centre:  10858.59595959596\n",
            "error:  1.0000000000000078 centre:  10919.191919191919\n",
            "error:  1.0000000000000064 centre:  10858.59595959596\n",
            "error:  1.0000000000000069 centre:  10898.9898989899\n",
            "error:  1.000000000000006 centre:  11000.0\n",
            "error:  1.0000000000000075 centre:  10898.9898989899\n",
            "error:  1.000000000000005 centre:  10717.181818181818\n"
          ]
        },
        {
          "output_type": "error",
          "ename": "LinAlgError",
          "evalue": "ignored",
          "traceback": [
            "\u001b[0;31m---------------------------------------------------------------------------\u001b[0m",
            "\u001b[0;31mLinAlgError\u001b[0m                               Traceback (most recent call last)",
            "\u001b[0;32m<ipython-input-22-3b70691bd131>\u001b[0m in \u001b[0;36m<cell line: 1>\u001b[0;34m()\u001b[0m\n\u001b[0;32m----> 1\u001b[0;31m \u001b[0mD_hat\u001b[0m \u001b[0;34m=\u001b[0m \u001b[0mx2hdm\u001b[0m\u001b[0;34m(\u001b[0m\u001b[0mnNodes\u001b[0m\u001b[0;34m,\u001b[0m\u001b[0mnlandmarks\u001b[0m\u001b[0;34m,\u001b[0m \u001b[0mX_hat\u001b[0m\u001b[0;34m,\u001b[0m\u001b[0md\u001b[0m\u001b[0;34m)\u001b[0m\u001b[0;34m\u001b[0m\u001b[0;34m\u001b[0m\u001b[0m\n\u001b[0m",
            "\u001b[0;32m<ipython-input-21-cd0d0a9876df>\u001b[0m in \u001b[0;36mx2hdm\u001b[0;34m(N, land, X, d)\u001b[0m\n\u001b[1;32m     26\u001b[0m \u001b[0;32mdef\u001b[0m \u001b[0mx2hdm\u001b[0m\u001b[0;34m(\u001b[0m\u001b[0mN\u001b[0m\u001b[0;34m,\u001b[0m\u001b[0mland\u001b[0m\u001b[0;34m,\u001b[0m \u001b[0mX\u001b[0m\u001b[0;34m,\u001b[0m\u001b[0md\u001b[0m\u001b[0;34m)\u001b[0m\u001b[0;34m:\u001b[0m\u001b[0;34m\u001b[0m\u001b[0;34m\u001b[0m\u001b[0m\n\u001b[1;32m     27\u001b[0m   \u001b[0mn\u001b[0m \u001b[0;34m=\u001b[0m \u001b[0mN\u001b[0m\u001b[0;34m-\u001b[0m\u001b[0mland\u001b[0m\u001b[0;34m\u001b[0m\u001b[0;34m\u001b[0m\u001b[0m\n\u001b[0;32m---> 28\u001b[0;31m   \u001b[0mG\u001b[0m \u001b[0;34m=\u001b[0m \u001b[0mx2hgram\u001b[0m\u001b[0;34m(\u001b[0m\u001b[0mN\u001b[0m\u001b[0;34m,\u001b[0m\u001b[0md\u001b[0m\u001b[0;34m,\u001b[0m\u001b[0mX\u001b[0m\u001b[0;34m)\u001b[0m\u001b[0;34m\u001b[0m\u001b[0;34m\u001b[0m\u001b[0m\n\u001b[0m\u001b[1;32m     29\u001b[0m   \u001b[0mD\u001b[0m \u001b[0;34m=\u001b[0m \u001b[0m_arccosh\u001b[0m\u001b[0;34m(\u001b[0m\u001b[0mG\u001b[0m\u001b[0;34m)\u001b[0m\u001b[0;34m\u001b[0m\u001b[0;34m\u001b[0m\u001b[0m\n\u001b[1;32m     30\u001b[0m \u001b[0;34m\u001b[0m\u001b[0m\n",
            "\u001b[0;32m<ipython-input-21-cd0d0a9876df>\u001b[0m in \u001b[0;36mx2hgram\u001b[0;34m(N, d, X)\u001b[0m\n\u001b[1;32m     43\u001b[0m   \u001b[0;32mfor\u001b[0m \u001b[0mn\u001b[0m \u001b[0;32min\u001b[0m \u001b[0mrange\u001b[0m\u001b[0;34m(\u001b[0m\u001b[0mN\u001b[0m\u001b[0;34m)\u001b[0m\u001b[0;34m:\u001b[0m\u001b[0;34m\u001b[0m\u001b[0;34m\u001b[0m\u001b[0m\n\u001b[1;32m     44\u001b[0m       \u001b[0mx\u001b[0m \u001b[0;34m=\u001b[0m \u001b[0mX_\u001b[0m\u001b[0;34m[\u001b[0m\u001b[0;34m:\u001b[0m\u001b[0;34m,\u001b[0m\u001b[0mn\u001b[0m\u001b[0;34m]\u001b[0m\u001b[0;34m\u001b[0m\u001b[0;34m\u001b[0m\u001b[0m\n\u001b[0;32m---> 45\u001b[0;31m       \u001b[0mX_\u001b[0m\u001b[0;34m[\u001b[0m\u001b[0;34m:\u001b[0m\u001b[0;34m,\u001b[0m\u001b[0mn\u001b[0m\u001b[0;34m]\u001b[0m \u001b[0;34m=\u001b[0m \u001b[0mprojectX\u001b[0m\u001b[0;34m(\u001b[0m\u001b[0mN\u001b[0m\u001b[0;34m,\u001b[0m\u001b[0md\u001b[0m\u001b[0;34m,\u001b[0m\u001b[0mx\u001b[0m\u001b[0;34m)\u001b[0m\u001b[0;34m\u001b[0m\u001b[0;34m\u001b[0m\u001b[0m\n\u001b[0m\u001b[1;32m     46\u001b[0m \u001b[0;34m\u001b[0m\u001b[0m\n\u001b[1;32m     47\u001b[0m   \u001b[0mG\u001b[0m \u001b[0;34m=\u001b[0m \u001b[0mx2lgram\u001b[0m\u001b[0;34m(\u001b[0m\u001b[0mN\u001b[0m\u001b[0;34m,\u001b[0m\u001b[0md\u001b[0m\u001b[0;34m,\u001b[0m \u001b[0mX_\u001b[0m\u001b[0;34m)\u001b[0m\u001b[0;34m\u001b[0m\u001b[0;34m\u001b[0m\u001b[0m\n",
            "\u001b[0;32m<ipython-input-21-cd0d0a9876df>\u001b[0m in \u001b[0;36mprojectX\u001b[0;34m(N, d, x)\u001b[0m\n\u001b[1;32m     88\u001b[0m       \u001b[0mlambda_list\u001b[0m \u001b[0;34m=\u001b[0m \u001b[0mnp\u001b[0m\u001b[0;34m.\u001b[0m\u001b[0mlinspace\u001b[0m\u001b[0;34m(\u001b[0m\u001b[0mlambda_min\u001b[0m\u001b[0;34m,\u001b[0m\u001b[0mlambda_max\u001b[0m\u001b[0;34m,\u001b[0m\u001b[0mnum\u001b[0m\u001b[0;34m=\u001b[0m\u001b[0mnumber\u001b[0m\u001b[0;34m)\u001b[0m\u001b[0;34m\u001b[0m\u001b[0;34m\u001b[0m\u001b[0m\n\u001b[1;32m     89\u001b[0m       \u001b[0;32mfor\u001b[0m \u001b[0mlambda_\u001b[0m \u001b[0;32min\u001b[0m \u001b[0mlambda_list\u001b[0m\u001b[0;34m:\u001b[0m\u001b[0;34m\u001b[0m\u001b[0;34m\u001b[0m\u001b[0m\n\u001b[0;32m---> 90\u001b[0;31m           \u001b[0mA\u001b[0m \u001b[0;34m=\u001b[0m \u001b[0mnp\u001b[0m\u001b[0;34m.\u001b[0m\u001b[0mlinalg\u001b[0m\u001b[0;34m.\u001b[0m\u001b[0minv\u001b[0m\u001b[0;34m(\u001b[0m\u001b[0mI\u001b[0m \u001b[0;34m+\u001b[0m \u001b[0mlambda_\u001b[0m\u001b[0;34m*\u001b[0m\u001b[0mH\u001b[0m\u001b[0;34m)\u001b[0m\u001b[0;34m\u001b[0m\u001b[0;34m\u001b[0m\u001b[0m\n\u001b[0m\u001b[1;32m     91\u001b[0m           \u001b[0mx_l\u001b[0m \u001b[0;34m=\u001b[0m \u001b[0mnp\u001b[0m\u001b[0;34m.\u001b[0m\u001b[0mmatmul\u001b[0m\u001b[0;34m(\u001b[0m\u001b[0mA\u001b[0m\u001b[0;34m,\u001b[0m\u001b[0mx\u001b[0m\u001b[0;34m)\u001b[0m\u001b[0;34m\u001b[0m\u001b[0;34m\u001b[0m\u001b[0m\n\u001b[1;32m     92\u001b[0m           \u001b[0;32mif\u001b[0m \u001b[0mabs\u001b[0m\u001b[0;34m(\u001b[0m\u001b[0mh_norm\u001b[0m\u001b[0;34m(\u001b[0m\u001b[0mx_l\u001b[0m\u001b[0;34m,\u001b[0m\u001b[0mN\u001b[0m\u001b[0;34m,\u001b[0m\u001b[0md\u001b[0m\u001b[0;34m)\u001b[0m\u001b[0;34m+\u001b[0m\u001b[0;36m1\u001b[0m\u001b[0;34m)\u001b[0m \u001b[0;34m<\u001b[0m \u001b[0merror\u001b[0m\u001b[0;34m:\u001b[0m\u001b[0;34m\u001b[0m\u001b[0;34m\u001b[0m\u001b[0m\n",
            "\u001b[0;32m/usr/local/lib/python3.10/dist-packages/numpy/core/overrides.py\u001b[0m in \u001b[0;36minv\u001b[0;34m(*args, **kwargs)\u001b[0m\n",
            "\u001b[0;32m/usr/local/lib/python3.10/dist-packages/numpy/linalg/linalg.py\u001b[0m in \u001b[0;36minv\u001b[0;34m(a)\u001b[0m\n\u001b[1;32m    543\u001b[0m     \u001b[0msignature\u001b[0m \u001b[0;34m=\u001b[0m \u001b[0;34m'D->D'\u001b[0m \u001b[0;32mif\u001b[0m \u001b[0misComplexType\u001b[0m\u001b[0;34m(\u001b[0m\u001b[0mt\u001b[0m\u001b[0;34m)\u001b[0m \u001b[0;32melse\u001b[0m \u001b[0;34m'd->d'\u001b[0m\u001b[0;34m\u001b[0m\u001b[0;34m\u001b[0m\u001b[0m\n\u001b[1;32m    544\u001b[0m     \u001b[0mextobj\u001b[0m \u001b[0;34m=\u001b[0m \u001b[0mget_linalg_error_extobj\u001b[0m\u001b[0;34m(\u001b[0m\u001b[0m_raise_linalgerror_singular\u001b[0m\u001b[0;34m)\u001b[0m\u001b[0;34m\u001b[0m\u001b[0;34m\u001b[0m\u001b[0m\n\u001b[0;32m--> 545\u001b[0;31m     \u001b[0mainv\u001b[0m \u001b[0;34m=\u001b[0m \u001b[0m_umath_linalg\u001b[0m\u001b[0;34m.\u001b[0m\u001b[0minv\u001b[0m\u001b[0;34m(\u001b[0m\u001b[0ma\u001b[0m\u001b[0;34m,\u001b[0m \u001b[0msignature\u001b[0m\u001b[0;34m=\u001b[0m\u001b[0msignature\u001b[0m\u001b[0;34m,\u001b[0m \u001b[0mextobj\u001b[0m\u001b[0;34m=\u001b[0m\u001b[0mextobj\u001b[0m\u001b[0;34m)\u001b[0m\u001b[0;34m\u001b[0m\u001b[0;34m\u001b[0m\u001b[0m\n\u001b[0m\u001b[1;32m    546\u001b[0m     \u001b[0;32mreturn\u001b[0m \u001b[0mwrap\u001b[0m\u001b[0;34m(\u001b[0m\u001b[0mainv\u001b[0m\u001b[0;34m.\u001b[0m\u001b[0mastype\u001b[0m\u001b[0;34m(\u001b[0m\u001b[0mresult_t\u001b[0m\u001b[0;34m,\u001b[0m \u001b[0mcopy\u001b[0m\u001b[0;34m=\u001b[0m\u001b[0;32mFalse\u001b[0m\u001b[0;34m)\u001b[0m\u001b[0;34m)\u001b[0m\u001b[0;34m\u001b[0m\u001b[0;34m\u001b[0m\u001b[0m\n\u001b[1;32m    547\u001b[0m \u001b[0;34m\u001b[0m\u001b[0m\n",
            "\u001b[0;32m/usr/local/lib/python3.10/dist-packages/numpy/linalg/linalg.py\u001b[0m in \u001b[0;36m_raise_linalgerror_singular\u001b[0;34m(err, flag)\u001b[0m\n\u001b[1;32m     86\u001b[0m \u001b[0;34m\u001b[0m\u001b[0m\n\u001b[1;32m     87\u001b[0m \u001b[0;32mdef\u001b[0m \u001b[0m_raise_linalgerror_singular\u001b[0m\u001b[0;34m(\u001b[0m\u001b[0merr\u001b[0m\u001b[0;34m,\u001b[0m \u001b[0mflag\u001b[0m\u001b[0;34m)\u001b[0m\u001b[0;34m:\u001b[0m\u001b[0;34m\u001b[0m\u001b[0;34m\u001b[0m\u001b[0m\n\u001b[0;32m---> 88\u001b[0;31m     \u001b[0;32mraise\u001b[0m \u001b[0mLinAlgError\u001b[0m\u001b[0;34m(\u001b[0m\u001b[0;34m\"Singular matrix\"\u001b[0m\u001b[0;34m)\u001b[0m\u001b[0;34m\u001b[0m\u001b[0;34m\u001b[0m\u001b[0m\n\u001b[0m\u001b[1;32m     89\u001b[0m \u001b[0;34m\u001b[0m\u001b[0m\n\u001b[1;32m     90\u001b[0m \u001b[0;32mdef\u001b[0m \u001b[0m_raise_linalgerror_nonposdef\u001b[0m\u001b[0;34m(\u001b[0m\u001b[0merr\u001b[0m\u001b[0;34m,\u001b[0m \u001b[0mflag\u001b[0m\u001b[0;34m)\u001b[0m\u001b[0;34m:\u001b[0m\u001b[0;34m\u001b[0m\u001b[0;34m\u001b[0m\u001b[0m\n",
            "\u001b[0;31mLinAlgError\u001b[0m: Singular matrix"
          ]
        }
      ]
    },
    {
      "cell_type": "markdown",
      "source": [
        "### (wrong) Problem with ProjectX, we don't need it anymore, need to redefine x2hdm"
      ],
      "metadata": {
        "id": "xLBIfOBNfbdN"
      }
    },
    {
      "cell_type": "code",
      "source": [
        "def x2hdm_v2(N,land, X,d):\n",
        "  n = N-land\n",
        "  G = x2hgram_v2(N,d,X)\n",
        "  D = _arccosh(G)\n",
        "\n",
        "  return D\n",
        "\n",
        "\n",
        "def x2hgram_v2(N,d, X):\n",
        "  n = N-d\n",
        "\n",
        "  G = x2lgram(N,d, X)\n",
        "  return G"
      ],
      "metadata": {
        "id": "yv-M7mzLde6A"
      },
      "execution_count": null,
      "outputs": []
    },
    {
      "cell_type": "code",
      "source": [
        "D_hat = x2hdm_v2(nNodes,nlandmarks, X_hat,d)"
      ],
      "metadata": {
        "colab": {
          "base_uri": "https://localhost:8080/"
        },
        "id": "2c3UGjZceid-",
        "outputId": "66de2295-1af0-4d73-a0bb-0e849d8e9c25"
      },
      "execution_count": null,
      "outputs": [
        {
          "output_type": "stream",
          "name": "stderr",
          "text": [
            "<ipython-input-21-cd0d0a9876df>:35: RuntimeWarning: invalid value encountered in arccosh\n",
            "  D = np.arccosh(-G)\n"
          ]
        }
      ]
    },
    {
      "cell_type": "code",
      "source": [
        "D_hat.shape"
      ],
      "metadata": {
        "colab": {
          "base_uri": "https://localhost:8080/"
        },
        "id": "09kMAebJent9",
        "outputId": "286de93f-af40-4fc4-b2bf-6018643d663d"
      },
      "execution_count": null,
      "outputs": [
        {
          "output_type": "execute_result",
          "data": {
            "text/plain": [
              "(250, 250)"
            ]
          },
          "metadata": {},
          "execution_count": 25
        }
      ]
    },
    {
      "cell_type": "code",
      "source": [
        "np.save('/content/D_hat', D_hat)"
      ],
      "metadata": {
        "id": "CBJ2nkqnRJIa"
      },
      "execution_count": null,
      "outputs": []
    },
    {
      "cell_type": "markdown",
      "source": [
        "## Generating X_hat (L-Hydra +)"
      ],
      "metadata": {
        "id": "18rfItiwwTkM"
      }
    },
    {
      "cell_type": "markdown",
      "source": [
        "### Embedding Landmarks"
      ],
      "metadata": {
        "id": "p840OL96SkiI"
      }
    },
    {
      "cell_type": "code",
      "source": [
        "X = np.load('/content/X.npy')\n",
        "D = np.load('/content/D.npy')\n",
        "L2n = D[:nlandmarks,:]\n",
        "print(\"L2n: \", L2n.shape)"
      ],
      "metadata": {
        "id": "KQasK54yUuLR",
        "outputId": "40a84699-96ca-43c8-809e-4552bcfcc952",
        "colab": {
          "base_uri": "https://localhost:8080/"
        }
      },
      "execution_count": 12,
      "outputs": [
        {
          "output_type": "stream",
          "name": "stdout",
          "text": [
            "L2n:  (101, 250)\n"
          ]
        }
      ]
    },
    {
      "cell_type": "code",
      "source": [
        "land_ids = [i for i in range(nlandmarks)]\n",
        "non_land_ids = [i for i in range(nlandmarks,nNodes)]\n",
        "D_land2nodes, D_land, land_ids, D_nonland, nonland_ids = L2n, L2n[:,:nlandmarks], land_ids, L2n[:,nlandmarks:], non_land_ids"
      ],
      "metadata": {
        "id": "Z3HZCy2xwXB0"
      },
      "execution_count": 13,
      "outputs": []
    },
    {
      "cell_type": "code",
      "source": [
        "def embed_prelandmarks(xstart,factr,param_list):\n",
        "\tdef f(x):\n",
        "\t\treturn land_obj(x,**param_list)\n",
        "\tbnds = [ (None, None) for i in range(len(xstart))]\n",
        "\tx,f,d = fmin_l_bfgs_b(f,xstart, bounds=bnds, factr=factr)\n",
        "\treturn x,f,d\n",
        "\n",
        "def embed_pre_nonlandmarks(xstart,node,param_list2):\n",
        "\tdef g(x):\n",
        "\t\treturn nonland_obj(x,node,**param_list2)\n",
        "\tbnds = [ (None, None) for i in range(len(xstart))]\n",
        "\tx,f,d = fmin_l_bfgs_b(g,xstart, bounds=bnds, factr=1e12)\n",
        "\treturn x,f,d"
      ],
      "metadata": {
        "id": "RkfUE5-1Bdhl"
      },
      "execution_count": 5,
      "outputs": []
    },
    {
      "cell_type": "code",
      "source": [
        "def f(X,Y):\n",
        "\treturn .5*linalg.norm(X-Y, ord='fro')**2\n",
        "\n",
        "def df(X,Y):\n",
        "\treturn X-Y"
      ],
      "metadata": {
        "id": "512xLRIqVprL"
      },
      "execution_count": 6,
      "outputs": []
    },
    {
      "cell_type": "code",
      "source": [
        "def land_obj(x,**kwargs):\n",
        "\tdim = kwargs['dim']\n",
        "\tD0 = kwargs['D_landmark']\n",
        "\tgrad = zeros(len(x))\n",
        "\tpoints = len(x[:-1])//dim\n",
        "\tk = x[-1]\n",
        "\tc = 1./sqrt(abs(k))\n",
        "\tP = x[:-1].reshape((points,dim))\n",
        "\n",
        "\tX = dot(P,P.T)\n",
        "\tUsq = diag(X) + 1.0\n",
        "\tU = sqrt(Usq)\n",
        "\tUdotU = X - outer(U,U)\n",
        "\tacoshUdotU = real(arccosh(-UdotU + 0j))\n",
        "\tfill_diagonal(acoshUdotU,0.0)\n",
        "\n",
        "\tD = acoshUdotU*c;\n",
        "\tD[isnan(D)] = 0\n",
        "\tdE = df(D,D0)\n",
        "\terr = f(D,D0)/2.0 # since matrix is symmetric\n",
        "\n",
        "\t# compute gradient w.r.t. k\n",
        "\tgradk = - dE * acoshUdotU * .5 * k * abs(k)**-2.5\n",
        "\tgrad[-1] = sum(sum(gradk))/2.0 # divide by two since matrix is symmetric\n",
        "\n",
        "\t# compute gradient\n",
        "\ttol = 1e-12\n",
        "\tAtemp = UdotU**2 - 1.0\n",
        "\tAtemp[Atemp<=0] = tol\n",
        "\tA = - 1./sqrt(Atemp) * c\n",
        "\tB = outer(1./U,U)\n",
        "\tC = dE * A\n",
        "\tH1 = C * B\n",
        "\thsum = sum(H1,1)\n",
        "\tL = len(D0)\n",
        "\tCi = zeros((len(C),len(C)))\n",
        "\tfor i in range(L):\n",
        "\t\tui = P[i,:]\n",
        "\t\thi = hsum[i]\n",
        "\t\tfill_diagonal(Ci,C[i])\n",
        "\t\tg = sum(dot(P.T,Ci),1) - hi*ui\n",
        "\t\tgrad[dim*i:(i+1)*dim] = g\n",
        "\n",
        "\treturn err, grad\n",
        "\n",
        "def pre_embedding(dim, D_land, landmarks0, xstart, seed=133):\n",
        "\tD0 = D_land\n",
        "\tx0 = xstart\n",
        "\tnL = len(D0)\n",
        "\trn = random.RandomState(seed)\n",
        "\tif nL <= 32:\n",
        "\t\tx = append(rn.rand(1), x0.flatten())\n",
        "\t\tparam_list = {'dim': dim, 'D_landmark' : D_land}\n",
        "\t\tx1,_,_ = embed_prelandmarks(x,1e10,param_list)\n",
        "\t\treturn x1\n",
        "\telse:\n",
        "\t\t# find nearest power of two and embed\n",
        "\t\texp = floor(log2(nL))\n",
        "\t\tif abs(exp - log2(nL)) == 0:\n",
        "\t\t\t# if nL is a perfect power of 2, then use lowest exp\n",
        "\t\t\trL = int(2**(exp-1))\n",
        "\t\telse:\n",
        "\t\t\trL = int(2**(exp))\n",
        "\t\tland_ids_new = array(sort(rn.permutation(nL)[:rL])).astype('int')\n",
        "\t\tD_land2nodes_new = D0[land_ids_new,:]\n",
        "\t\tD_land_new = D_land2nodes_new[:,land_ids_new]\n",
        "\t\txstart_new = x0[land_ids_new]\n",
        "\t\t# embed new set of sub-landmarks\n",
        "\t\tparam_list_new = {'dim': dim, 'D_landmark' : D_land_new, 'x_start0' : xstart_new}\n",
        "\t\tx_land_soln = pre_embedding(dim, D_land_new,landmarks0,xstart_new)\n",
        "\t\t# solve exactly (comment out for faster runs)\n",
        "\t\tif rL > 32 and rL <= int(landmarks0/2):\n",
        "\t\t\tx1temp,_,_ = embed_prelandmarks(x_land_soln,1e10,param_list_new)\n",
        "\t\t\tx_land_soln = x1temp\n",
        "\t\tL_new = x_land_soln[:-1].reshape((rL,dim))\n",
        "\t\tcurv_new = x_land_soln[-1]\n",
        "\t\t# embed nonlandmarks\n",
        "\t\tnonland_ids_new = delete(arange(nL),land_ids_new)\n",
        "\t\tD_nonland_new = D_land2nodes_new[:,nonland_ids_new]\n",
        "\t\tnl_ids = range(len(nonland_ids_new))\n",
        "\t\tnonland_xmin = []\n",
        "\t\tfor nl_id in nl_ids:\n",
        "\t\t\tparam_list2_new = {'dim': dim, 'Land_points': L_new, 'D_nonland': D_nonland_new, 'k': curv_new}\n",
        "\t\t\txstart2_0 = x0[nonland_ids_new[nl_id]]\n",
        "\t\t\tx2,_,_ = embed_pre_nonlandmarks(xstart2_0,nl_id,param_list2_new)\n",
        "\t\t\tnonland_xmin.append(x2)\n",
        "\t\t# fill in embedded points\n",
        "\t\tC0 = zeros((nL,dim))\n",
        "\t\tfor ii,id in enumerate(land_ids_new):\n",
        "\t\t\tC0[id,:] = L_new[ii,:]\n",
        "\t\tfor ii,xmin_nl in enumerate(nonland_xmin):\n",
        "\t\t\tC0[nonland_ids_new[ii],:] = xmin_nl\n",
        "\t\treturn append(C0.flatten(),curv_new)\n",
        "\n",
        "def nonland_obj(x, node, **kwargs):\n",
        "\t'''\n",
        "\tcomputes nonlandmark error for an entire nonlandmark\n",
        "\tmatrix D0\n",
        "\t'''\n",
        "\t# node is index of D_nonland not D_land2nodes\n",
        "\tdim = kwargs['dim']\n",
        "\tD0 = kwargs['D_nonland']\n",
        "\tL = kwargs['Land_points']\n",
        "\tn_land, dim = L.shape\n",
        "\tnl_id = node\n",
        "\tk = kwargs['k']\n",
        "\tc = 1./sqrt(abs(k))\n",
        "\n",
        "\tX = dot(L,x)\n",
        "\tu = sqrt(dot(x,x) + 1.0)\n",
        "\tV = sqrt(sum(L.T**2,0) + 1.0)\n",
        "\tudotV = outer(u,V) - X\n",
        "\td = real(arccosh(udotV + 0j)) * c\n",
        "\td0 = D0[:,nl_id]\n",
        "\terr = f(d,d0)\n",
        "\tderr = df(d,d0)\n",
        "\n",
        "\t# compute gradient\n",
        "\ttol = 1e-12\n",
        "\tAtemp = udotV**2 - 1.0\n",
        "\tAtemp[Atemp<=0] = tol\n",
        "\tA = - 1./sqrt(Atemp) * c\n",
        "\tB = outer(1./u,V)\n",
        "\tC = derr * A\n",
        "\tH1 = C * B\n",
        "\tH1.shape = (n_land,1)\n",
        "\tC.shape = (n_land,1)\n",
        "\n",
        "\tui = x\n",
        "\tUi = tile(ui,(n_land,1)).T\n",
        "\tHi = diag(H1[:,0])\n",
        "\tCi = diag(C[:,0])\n",
        "\tG = dot(L.T,Ci) - dot(Ui,Hi)\n",
        "\tgrad = sum(G,1)\n",
        "\n",
        "\treturn err, grad"
      ],
      "metadata": {
        "id": "vTWZVm1AALmg"
      },
      "execution_count": 7,
      "outputs": []
    },
    {
      "cell_type": "code",
      "source": [
        "from scipy.optimize import minimize, fmin_l_bfgs_b\n",
        "\n",
        "def pre_embed(s, param_list):\n",
        "\t'''\n",
        "\tCall pre_embedding\n",
        "\t'''\n",
        "\tdim = param_list['dim']\n",
        "\tD_land = param_list['D_landmark']\n",
        "\tlandmarks0 = param_list['landmarks0']\n",
        "\txstart = param_list['x_start0']\n",
        "\tx = pre_embedding(dim,D_land,landmarks0,xstart,seed=s)\n",
        "\treturn land_obj(x,**param_list)[0], x\n",
        "\n",
        "def embed_landmarks(xstart,param_list,factr=1e10):\n",
        "\tdef f(x):\n",
        "\t\treturn land_obj(x,**param_list)\n",
        "\tbnds = [ (None, None) for i in range(len(xstart))]\n",
        "\tx,f,d = fmin_l_bfgs_b(f,xstart,\\\n",
        "\t\t\t\t\t\t\tbounds=bnds,\\\n",
        "\t\t\t\t\t\t\tfactr=factr)\n",
        "\treturn f,x"
      ],
      "metadata": {
        "id": "hx0f0fvB_nEl"
      },
      "execution_count": 8,
      "outputs": []
    },
    {
      "cell_type": "code",
      "source": [
        "def F(seed,param_list):\n",
        "\t'''\n",
        "\tMain embedding algorithm (run for multiple seeds)\n",
        "\t'''\n",
        "\t# seed = args[0]\n",
        "\t# param_list = args[1]\n",
        "\tf0,x0 = pre_embed(seed, param_list)\n",
        "\treturn embed_landmarks(x0,param_list)\n"
      ],
      "metadata": {
        "id": "DfOuRr1E_ZLU"
      },
      "execution_count": 9,
      "outputs": []
    },
    {
      "cell_type": "code",
      "source": [
        "def run_single_landmark_embedding(param_list, nodes, land_ids, seed):\n",
        "\tstart = time.time()\n",
        "\n",
        "\tfval, xsoln = F(seed,param_list)\n",
        "\tland_error = fval\n",
        "\tdim = param_list['dim']\n",
        "\tD_land = param_list['D_landmark']\n",
        "\tlandmarks = len(D_land)\n",
        "\tXsoln = xsoln[:-1].reshape(landmarks,dim)\n",
        "\tcsoln = xsoln[-1]\n",
        "\tlandmark_rel_error = sqrt(2*land_error)/linalg.norm(D_land,ord='fro')\n",
        "\thypy_land_time = time.time() - start\n",
        "\n",
        "\treturn hypy_land_time, landmark_rel_error, Xsoln, csoln"
      ],
      "metadata": {
        "id": "FewknM4n_R-M"
      },
      "execution_count": 10,
      "outputs": []
    },
    {
      "cell_type": "code",
      "source": [
        "import sys, time, pdb, os\n",
        "\n",
        "from numpy import *\n",
        "from scipy.optimize import minimize, fmin_l_bfgs_b\n",
        "from mpi4py import MPI # must use mpirun-openmpi-clang38\n",
        "\n",
        "'''\n",
        "Parallel landmark embedding\n",
        "'''\n",
        "\n",
        "# MPI init\n",
        "comm = MPI.COMM_WORLD\n",
        "rank = MPI.COMM_WORLD.Get_rank()\n",
        "size = MPI.COMM_WORLD.Get_size()\n",
        "name = MPI.Get_processor_name()\n",
        "\n",
        "\n",
        "if rank == 0:\n",
        "\t# print(\"Loading data...\")\n",
        "\t# D_land, land_ids, nonland_ids = load_data_4land(nodes, landmarks, dataloc)\n",
        "\tx_start_tmp = np.random.random(X.T.shape)\n",
        "\t# print(x_start_tmp)\n",
        "\tx_start = x_start_tmp[land_ids,]\n",
        "else:\n",
        "\tD_land = None\n",
        "\tland_ids = None\n",
        "\tnonland_ids = None\n",
        "\tx_start = None\n",
        "\n",
        "D_land = comm.bcast(D_land,root=0)\n",
        "land_ids = comm.bcast(land_ids,root=0)\n",
        "nonland_ids = comm.bcast(nonland_ids,root=0)\n",
        "x_start = comm.bcast(x_start,root=0)\n",
        "param_list = {'dim': dim, 'D_landmark' : D_land, 'landmarks0' : nlandmarks, 'x_start0' : x_start}\n",
        "\n",
        "def embed_landmarks_lhp(nodes, landmarks, dim, seed):\n",
        "\n",
        "\t# START LANDMARK EMBEDDING\n",
        "\t# if rank == 0: print(\"\\nStarting landmark embedding...\")\n",
        "\n",
        "\thypy_land_time, landmark_rel_error, land_coord, curv = run_single_landmark_embedding(param_list, nodes, landmarks, seed)\n",
        "\n",
        "\treturn hypy_land_time, landmark_rel_error, land_coord, curv\n",
        "\n",
        "# generate seed from rank\n",
        "rn = random.RandomState(rank + 13)\n",
        "seed = rn.randint(1000)\n",
        "\n",
        "# run landmark embedding\n",
        "hypy_land_time, landmark_rel_error, land_coord, curv = embed_landmarks_lhp(nNodes, nlandmarks, dim, seed)"
      ],
      "metadata": {
        "id": "TJ1LJX1IxRN9"
      },
      "execution_count": 19,
      "outputs": []
    },
    {
      "cell_type": "code",
      "source": [
        "print(hypy_land_time, landmark_rel_error, land_coord.shape, curv)"
      ],
      "metadata": {
        "id": "2K6txIZjPZ6q",
        "colab": {
          "base_uri": "https://localhost:8080/"
        },
        "outputId": "71d1b20a-c460-4900-c6ab-267a6e3f0dab"
      },
      "execution_count": 20,
      "outputs": [
        {
          "output_type": "stream",
          "name": "stdout",
          "text": [
            "28.888341426849365 0.0008919196275280475 (101, 100) 0.39783459609592897\n"
          ]
        }
      ]
    },
    {
      "cell_type": "code",
      "source": [
        "np.save('/content/land_coord', land_coord)\n",
        "np.save('/content/seed', seed)\n",
        "np.save('/content/curv', curv)"
      ],
      "metadata": {
        "id": "d0AhGkHvbnLg"
      },
      "execution_count": 25,
      "outputs": []
    },
    {
      "cell_type": "markdown",
      "source": [
        "### Embedding non-landmarks"
      ],
      "metadata": {
        "id": "XVNXgL18SpUn"
      }
    },
    {
      "cell_type": "code",
      "source": [
        "def pre_nonland_obj_percol(x, dim, L, k, rL_in_land_idx, d0):\n",
        "\t'''\n",
        "\tcomputes nonlandmark error for fixed column d0 of the\n",
        "\tnonlandmark matrix\n",
        "\t'''\n",
        "\tLnew = L[rL_in_land_idx,:]\n",
        "\td0 = d0[rL_in_land_idx]\n",
        "\tn_land, dim = Lnew.shape\n",
        "\tc = 1./sqrt(abs(k))\n",
        "\n",
        "\tX = dot(Lnew,x)\n",
        "\tu = sqrt(dot(x,x) + 1.0)\n",
        "\tV = sqrt(sum(Lnew.T**2,0) + 1.0)\n",
        "\tudotV = outer(u,V) - X\n",
        "\td = real(arccosh(udotV + 0j)) * c\n",
        "\terr = f(d,d0)\n",
        "\tderr = df(d,d0)\n",
        "\n",
        "\t# compute gradient\n",
        "\ttol = 1e-12\n",
        "\tAtemp = udotV**2 - 1.0\n",
        "\tAtemp[Atemp<=0] = tol\n",
        "\tA = - 1./sqrt(Atemp) * c\n",
        "\tB = outer(1./u,V)\n",
        "\tC = derr * A\n",
        "\tH1 = C * B\n",
        "\tH1.shape = (n_land,1)\n",
        "\tC.shape = (n_land,1)\n",
        "\n",
        "\tui = x\n",
        "\tUi = tile(ui,(n_land,1)).T\n",
        "\tHi = diag(H1[:,0])\n",
        "\tCi = diag(C[:,0])\n",
        "\tG = dot(Lnew.T,Ci) - dot(Ui,Hi)\n",
        "\tgrad = sum(G,1)\n",
        "\n",
        "\treturn err, grad"
      ],
      "metadata": {
        "id": "5ZNpnyZzaYm7"
      },
      "execution_count": 22,
      "outputs": []
    },
    {
      "cell_type": "code",
      "source": [
        "def embed_nonlandmark0(xstart, dim, L, k, rL_idx, d0, factr=1e12):\n",
        "    '''\n",
        "    embed all nonlandmarks relative to landmarks using random start\n",
        "    ignore rL_idx\n",
        "    '''\n",
        "    def g(x):\n",
        "        return pre_nonland_obj_percol(x, dim, L, k, rL_idx, d0)\n",
        "\n",
        "    bnds = [(None, None) for i in range(len(xstart))]\n",
        "    x, f, d = fmin_l_bfgs_b(g, xstart, bounds=bnds, factr=factr)\n",
        "    return f, x, d\n",
        "\n",
        "def embed_nonlandmark_recursive(xstart, dim, L, k, rL_idxs, d0, factr=1e12):\n",
        "    x = xstart.copy()\n",
        "    factrs = [1e12 for r in range(len(rL_idxs))]\n",
        "    factrs[-1] = 1e13\n",
        "\n",
        "    for rr in range(len(rL_idxs)):\n",
        "        f, x, d = embed_nonlandmark0(x, dim, L, k, rL_idxs[rr], d0, factr=factrs[rr])\n",
        "\n",
        "    return f, x, d\n",
        "\n",
        "def F2(args):\n",
        "    seed = args[0]\n",
        "    dim = args[1]\n",
        "    L = args[2]\n",
        "    k = args[3]\n",
        "    rL = args[4]\n",
        "    idx = args[5]\n",
        "    D0 = args[6]\n",
        "    node_ids = args[7] # list of nodes\n",
        "    X0 = args[8]\n",
        "    n_nodes = len(node_ids)\n",
        "    X = []\n",
        "    Fval = []\n",
        "    rn2 = random.RandomState(seed)\n",
        "    disp_every = .25\n",
        "    niter = []\n",
        "    funcalls = []\n",
        "    rLs = [100 * 2 ** i for i in range(int(log2(nlandmarks / 100)) + 1)]\n",
        "    # print(rLs)\n",
        "\n",
        "    rL_idx = [sort(rn2.permutation(land_ids.copy())[:rL]) for rL in rLs]\n",
        "    # print(rL_idx[0].shape)\n",
        "\n",
        "    rL_in_land_idx = [in1d(land_ids, rL) for rL in rL_idx]\n",
        "    # print(rL_in_land_idx[0].shape)\n",
        "    # print(rL_in_land_idx)\n",
        "\n",
        "    for i in range(n_nodes):\n",
        "        if idx == 0:\n",
        "            if i % int(n_nodes * disp_every) == 0:\n",
        "                print(\" %3i percent done\" % (around(100 * i / float(n_nodes))))\n",
        "\n",
        "        x0 = X0[i, :]\n",
        "        ftemp, x, d = embed_nonlandmark_recursive(x0, dim, L, k, rL_in_land_idx, D0[:, node_ids[i]])\n",
        "        X.append(x)\n",
        "        Fval.append(ftemp)\n",
        "        niter.append(d['nit'])\n",
        "        funcalls.append(d['funcalls'])\n",
        "\n",
        "    return Fval, array(X)\n"
      ],
      "metadata": {
        "id": "7IYKovUWee85"
      },
      "execution_count": 55,
      "outputs": []
    },
    {
      "cell_type": "code",
      "source": [
        "import multiprocessing as mp\n",
        "import sys, time, pdb, os, argparse\n",
        "\n",
        "from numpy import *\n",
        "from scipy.optimize import minimize, fmin_l_bfgs_b\n",
        "from mpi4py import MPI # must use mpirun-openmpi-clang38\n",
        "\n",
        "'''\n",
        "Parallel nonlandmark embedding\n",
        "'''\n",
        "\n",
        "# MPI init\n",
        "comm = MPI.COMM_WORLD\n",
        "rank = MPI.COMM_WORLD.Get_rank()\n",
        "size = MPI.COMM_WORLD.Get_size()\n",
        "name = MPI.Get_processor_name()\n",
        "\n",
        "# Define static variables with argparse\n",
        "# parser = argparse.ArgumentParser()\n",
        "# parser.add_argument(\"-n\", type=int, help=\"number of nodes in graph (int)\")\n",
        "# parser.add_argument(\"-L\", type=int, help=\"number of landmark nodes in graph (int)\")\n",
        "# parser.add_argument(\"-d\", type=int, help=\"dimension of embedding (int)\")\n",
        "# parser.add_argument(\"-sp\", type=int, help=\"choose nonlandmark split (int)\")\n",
        "# parser.add_argument(\"-s\", type=str, help=\"source location of datafiles (str)\")\n",
        "\n",
        "# # set args to variables\n",
        "# args = parser.parse_args()\n",
        "# nodes = args.n\n",
        "# landmarks = args.L\n",
        "# dim = args.d\n",
        "# nn = args.sp\n",
        "# dataloc = args.s\n",
        "# n_split = loadtxt(os.path.join(dataloc, 'nonland_nsplit.txt')) # total number of\n",
        "\n",
        "nprocs2 = size\n",
        "\n",
        "# if rank == 0:\n",
        "# \tprint(\"\\n\", \"*\"*60)\n",
        "# \tprint(\"Embedding for n = %i and L = %i in Dimension %i\" %(nodes, landmarks, dim))\n",
        "# \tprint(\"*\"*60)\n",
        "\n",
        "# land_ids, nonland_ids = load_data_4nonland(nodes, landmarks, dataloc)\n",
        "\n",
        "# if rank == 0: print(\"\\nStarting nonlandmark embedding...\")\n",
        "\n",
        "if rank == 0:\n",
        "\tprint(\"Loading data on rank = 0...\")\n",
        "\tD0 = D_nonland\n",
        "\tXstart0 = np.random.random(X.T.shape)\n",
        "\tL_points = land_coord\n",
        "\tland_err_temp_hypy = landmark_rel_error\n",
        "\tcsoln = np.load('/content/curv.npy')\n",
        "\tcurv = float(csoln)\n",
        "else:\n",
        "\tD0 = None\n",
        "\tXstart0 = None\n",
        "\tL_points = None\n",
        "\tland_err_temp_hypy = None\n",
        "\tcsoln = None\n",
        "\tcurv = None\n",
        "\n",
        "D0 = comm.bcast(D0,root=0)\n",
        "Xstart0 = comm.bcast(Xstart0,root=0)\n",
        "L_points = comm.bcast(L_points,root=0)\n",
        "land_err_temp_hypy = comm.bcast(land_err_temp_hypy,root=0)\n",
        "csoln = comm.bcast(csoln,root=0)\n",
        "curv = comm.bcast(curv,root=0)\n",
        "\n",
        "\n",
        "rn = random.RandomState(131)\n",
        "\n",
        "start = time.time()\n",
        "# if rank == 0: print(\"starting split %i out of %i\" %(nn+1,n_split))\n",
        "# load split nonland matrix\n",
        "_,n_nonland_temp = D0.shape\n",
        "\n",
        "node_ids = array_split(range(n_nonland_temp),nprocs2)\n",
        "\n",
        "# ready inputs for split\n",
        "seeds = [rn.randint(1e3) for jj in range(nprocs2)]\n",
        "nonland_rL = 100 # default\n",
        "inputs2 = [[seeds[i],dim,L_points,curv,nonland_rL,i,D0,node_ids[i],Xstart0] for i in range(len(node_ids))]\n",
        "l = [len(n) for n in node_ids]\n",
        "# if rank == 0: print(\"Each proc gets %i nodes...\" %(int(mean(l))))\n",
        "\n",
        "# start0 = time.time()\n",
        "solns2 = F2(inputs2[rank])\n",
        "# end0 = time.time()\n",
        "\n",
        "f2vals = solns2[0]\n",
        "x2solns = solns2[1]\n",
        "# save(os.path.join(dataloc, 'temp', 'x2s_split' + str(nn) + '_rank' + str(rank)),x2solns)\n",
        "# save(os.path.join(dataloc, 'temp', 'f2s_split' + str(nn) + '_rank' + str(rank)),f2vals)\n",
        "\n",
        "# end = time.time()\n",
        "# hypy_nonland_time = end - start\n",
        "# if rank == 0: print(\"**Parallel split took %.2f seconds\" %(hypy_nonland_time))\n",
        "# savetxt(os.path.join(dataloc, 'temp', 'nonland_time_split' + str(nn) + '_rank' + str(rank) + '.txt'),[hypy_nonland_time])\n"
      ],
      "metadata": {
        "colab": {
          "base_uri": "https://localhost:8080/"
        },
        "id": "D0SKxt1QQBqo",
        "outputId": "a7849523-6eef-4b41-a610-28358353097f"
      },
      "execution_count": 62,
      "outputs": [
        {
          "output_type": "stream",
          "name": "stdout",
          "text": [
            "Loading data on rank = 0...\n",
            "   0 percent done\n",
            "  25 percent done\n",
            "  50 percent done\n",
            "  74 percent done\n",
            "  99 percent done\n"
          ]
        }
      ]
    },
    {
      "cell_type": "code",
      "source": [
        "x2solns.shape"
      ],
      "metadata": {
        "colab": {
          "base_uri": "https://localhost:8080/"
        },
        "id": "3bDifA3ZcVwj",
        "outputId": "2ffb476a-9a13-4f43-b363-e9429e6cbaf1"
      },
      "execution_count": 63,
      "outputs": [
        {
          "output_type": "execute_result",
          "data": {
            "text/plain": [
              "(149, 100)"
            ]
          },
          "metadata": {},
          "execution_count": 63
        }
      ]
    },
    {
      "cell_type": "code",
      "source": [
        "land_coord.shape"
      ],
      "metadata": {
        "colab": {
          "base_uri": "https://localhost:8080/"
        },
        "id": "dv8XW5D8gpaR",
        "outputId": "28cd5938-fb73-4626-eb04-75dae08d1261"
      },
      "execution_count": 65,
      "outputs": [
        {
          "output_type": "execute_result",
          "data": {
            "text/plain": [
              "(101, 100)"
            ]
          },
          "metadata": {},
          "execution_count": 65
        }
      ]
    },
    {
      "cell_type": "code",
      "source": [
        "X_hat = np.zeros((land_coord.shape[0] + x2solns.shape[0], x2solns.shape[1]))\n",
        "X_hat[:land_coord.shape[0]] = land_coord\n",
        "X_hat[land_coord.shape[0]:] = x2solns"
      ],
      "metadata": {
        "id": "xr-8K3B4hbY6"
      },
      "execution_count": 66,
      "outputs": []
    },
    {
      "cell_type": "code",
      "source": [
        "X_hat.shape"
      ],
      "metadata": {
        "colab": {
          "base_uri": "https://localhost:8080/"
        },
        "id": "ANpyOFNciB8O",
        "outputId": "984f34da-bfb4-4e09-c23e-12466f29352a"
      },
      "execution_count": 67,
      "outputs": [
        {
          "output_type": "execute_result",
          "data": {
            "text/plain": [
              "(250, 100)"
            ]
          },
          "metadata": {},
          "execution_count": 67
        }
      ]
    },
    {
      "cell_type": "code",
      "source": [
        "X_hat = X_hat.T"
      ],
      "metadata": {
        "id": "kfjGAGb4iKjO"
      },
      "execution_count": 68,
      "outputs": []
    },
    {
      "cell_type": "code",
      "source": [
        "X_hat.shape"
      ],
      "metadata": {
        "colab": {
          "base_uri": "https://localhost:8080/"
        },
        "outputId": "13dd8549-d17f-4c72-a58b-ccde4d66b630",
        "id": "XUIeu4xyiKjR"
      },
      "execution_count": 69,
      "outputs": [
        {
          "output_type": "execute_result",
          "data": {
            "text/plain": [
              "(100, 250)"
            ]
          },
          "metadata": {},
          "execution_count": 69
        }
      ]
    },
    {
      "cell_type": "code",
      "source": [
        "D_hat = x2hdm(nNodes,nlandmarks, X_hat,d)"
      ],
      "metadata": {
        "id": "9zg2RAtsiKjT"
      },
      "execution_count": 75,
      "outputs": []
    },
    {
      "cell_type": "code",
      "source": [
        "D_hat.shape"
      ],
      "metadata": {
        "colab": {
          "base_uri": "https://localhost:8080/"
        },
        "id": "nk8gNzhgiVfJ",
        "outputId": "c2266ad0-a6cc-4298-eca4-1b07e17c460b"
      },
      "execution_count": 76,
      "outputs": [
        {
          "output_type": "execute_result",
          "data": {
            "text/plain": [
              "(250, 250)"
            ]
          },
          "metadata": {},
          "execution_count": 76
        }
      ]
    },
    {
      "cell_type": "code",
      "source": [
        "np.save('/content/D_hat', D_hat)"
      ],
      "metadata": {
        "id": "MFlrjp2RqcvM"
      },
      "execution_count": 77,
      "outputs": []
    },
    {
      "cell_type": "code",
      "source": [
        "def distance_mat_error(matrix1, matrix2):\n",
        "    squared_diff = (matrix1 - matrix2) ** 2\n",
        "    squared_diff = np.sum(squared_diff)\n",
        "    error = np.sqrt(squared_diff / (matrix1.shape[0] ** 2))\n",
        "\n",
        "    return error"
      ],
      "metadata": {
        "id": "EK-mUsf5rOMr"
      },
      "execution_count": 83,
      "outputs": []
    },
    {
      "cell_type": "code",
      "source": [
        "dist_mat_error = distance_mat_error(D, D_hat)"
      ],
      "metadata": {
        "id": "sR1k_YoKrwKZ"
      },
      "execution_count": 84,
      "outputs": []
    },
    {
      "cell_type": "code",
      "source": [
        "dist_mat_error"
      ],
      "metadata": {
        "colab": {
          "base_uri": "https://localhost:8080/"
        },
        "id": "lWG3C_uar3A3",
        "outputId": "365da3e8-3c5d-43c9-95e5-4c8472145871"
      },
      "execution_count": 85,
      "outputs": [
        {
          "output_type": "execute_result",
          "data": {
            "text/plain": [
              "2.0051824219818912"
            ]
          },
          "metadata": {},
          "execution_count": 85
        }
      ]
    }
  ]
}